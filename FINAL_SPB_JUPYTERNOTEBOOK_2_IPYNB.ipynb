{
  "nbformat": 4,
  "nbformat_minor": 0,
  "metadata": {
    "colab": {
      "name": "FINAL : SPB_JUPYTERNOTEBOOK_2.IPYNB",
      "provenance": [],
      "collapsed_sections": [],
      "authorship_tag": "ABX9TyPUcNc8ZNbry7aKPUc3+Y6k",
      "include_colab_link": true
    },
    "kernelspec": {
      "name": "python3",
      "display_name": "Python 3"
    },
    "language_info": {
      "name": "python"
    }
  },
  "cells": [
    {
      "cell_type": "markdown",
      "metadata": {
        "id": "view-in-github",
        "colab_type": "text"
      },
      "source": [
        "<a href=\"https://colab.research.google.com/github/sophiaperaza/Researchmethodsassignment/blob/main/FINAL_SPB_JUPYTERNOTEBOOK_2_IPYNB.ipynb\" target=\"_parent\"><img src=\"https://colab.research.google.com/assets/colab-badge.svg\" alt=\"Open In Colab\"/></a>"
      ]
    },
    {
      "cell_type": "code",
      "metadata": {
        "colab": {
          "base_uri": "https://localhost:8080/"
        },
        "id": "NkPn5p7XLUoN",
        "outputId": "557bb5bd-a801-4df6-f607-cc9d47d26b3e"
      },
      "source": [
        "import pandas as pd \n",
        "import numpy as np\n",
        "import sklearn\n",
        "import seaborn as sns\n",
        "import plotly\n",
        "import matplotlib.pyplot as plt\n",
        "import plotly.express as px\n",
        "print('successfully loaded packages')\n"
      ],
      "execution_count": null,
      "outputs": [
        {
          "output_type": "stream",
          "text": [
            "successfully loaded packages\n"
          ],
          "name": "stdout"
        }
      ]
    },
    {
      "cell_type": "markdown",
      "metadata": {
        "id": "bkaeEpRglqWd"
      },
      "source": [
        "This is the link for the data frame column descriptions:\n",
        "https://chronicdata.cdc.gov/Vision-Eye-Health/Commercial-Medical-Insurance-MSCANCC-Vision-and-Ey/a35h-9yn4\n",
        "\n"
      ]
    },
    {
      "cell_type": "code",
      "metadata": {
        "id": "V6u9v3D2Li7V"
      },
      "source": [
        "url4= 'https://chronicdata.cdc.gov/resource/a35h-9yn4.csv'"
      ],
      "execution_count": null,
      "outputs": []
    },
    {
      "cell_type": "code",
      "metadata": {
        "id": "vnsXMltFMmAd",
        "colab": {
          "base_uri": "https://localhost:8080/",
          "height": 1000
        },
        "outputId": "dfbc6058-590f-467a-c30d-1d0bcd0270af"
      },
      "source": [
        "df4= pd.read_csv(url4)\n",
        "df4"
      ],
      "execution_count": null,
      "outputs": [
        {
          "output_type": "execute_result",
          "data": {
            "text/html": [
              "<div>\n",
              "<style scoped>\n",
              "    .dataframe tbody tr th:only-of-type {\n",
              "        vertical-align: middle;\n",
              "    }\n",
              "\n",
              "    .dataframe tbody tr th {\n",
              "        vertical-align: top;\n",
              "    }\n",
              "\n",
              "    .dataframe thead th {\n",
              "        text-align: right;\n",
              "    }\n",
              "</style>\n",
              "<table border=\"1\" class=\"dataframe\">\n",
              "  <thead>\n",
              "    <tr style=\"text-align: right;\">\n",
              "      <th></th>\n",
              "      <th>yearstart</th>\n",
              "      <th>yearend</th>\n",
              "      <th>locationabbr</th>\n",
              "      <th>locationdesc</th>\n",
              "      <th>datasource</th>\n",
              "      <th>topic</th>\n",
              "      <th>category</th>\n",
              "      <th>question</th>\n",
              "      <th>response</th>\n",
              "      <th>age</th>\n",
              "      <th>gender</th>\n",
              "      <th>raceethnicity</th>\n",
              "      <th>riskfactor</th>\n",
              "      <th>riskfactorresponse</th>\n",
              "      <th>data_value_unit</th>\n",
              "      <th>data_value_type</th>\n",
              "      <th>data_value</th>\n",
              "      <th>data_value_footnote_symbol</th>\n",
              "      <th>data_value_footnote</th>\n",
              "      <th>low_confidence_limit</th>\n",
              "      <th>high_confidence_limit</th>\n",
              "      <th>numerator</th>\n",
              "      <th>sample_size</th>\n",
              "      <th>locationid</th>\n",
              "      <th>topicid</th>\n",
              "      <th>categoryid</th>\n",
              "      <th>questionid</th>\n",
              "      <th>responseid</th>\n",
              "      <th>datavaluetypeid</th>\n",
              "      <th>ageid</th>\n",
              "      <th>genderid</th>\n",
              "      <th>raceethnicityid</th>\n",
              "      <th>riskfactorid</th>\n",
              "      <th>riskfactorresponseid</th>\n",
              "      <th>geolocation</th>\n",
              "    </tr>\n",
              "  </thead>\n",
              "  <tbody>\n",
              "    <tr>\n",
              "      <th>0</th>\n",
              "      <td>2016</td>\n",
              "      <td>2016</td>\n",
              "      <td>NY</td>\n",
              "      <td>New York</td>\n",
              "      <td>MSCANCC</td>\n",
              "      <td>Eye Health Conditions</td>\n",
              "      <td>Glaucoma</td>\n",
              "      <td>Annual prevalence of treated glaucoma</td>\n",
              "      <td>Congenital glaucoma</td>\n",
              "      <td>0-17 years</td>\n",
              "      <td>Female</td>\n",
              "      <td>All races</td>\n",
              "      <td>Hypertension</td>\n",
              "      <td>Yes</td>\n",
              "      <td>%</td>\n",
              "      <td>Crude Prevalence</td>\n",
              "      <td>0.00</td>\n",
              "      <td>NaN</td>\n",
              "      <td>NaN</td>\n",
              "      <td>0.00</td>\n",
              "      <td>0.74</td>\n",
              "      <td>0.0</td>\n",
              "      <td>500.0</td>\n",
              "      <td>36</td>\n",
              "      <td>TCOND</td>\n",
              "      <td>CDXC5</td>\n",
              "      <td>QDXC5</td>\n",
              "      <td>R5_7</td>\n",
              "      <td>CRDPREV</td>\n",
              "      <td>AGE017</td>\n",
              "      <td>GF</td>\n",
              "      <td>ALLRACE</td>\n",
              "      <td>RFHT</td>\n",
              "      <td>RFYES</td>\n",
              "      <td>POINT (-75.54397043 42.82700103)</td>\n",
              "    </tr>\n",
              "    <tr>\n",
              "      <th>1</th>\n",
              "      <td>2016</td>\n",
              "      <td>2016</td>\n",
              "      <td>AK</td>\n",
              "      <td>Alaska</td>\n",
              "      <td>MSCANCC</td>\n",
              "      <td>Eye Health Conditions</td>\n",
              "      <td>Glaucoma</td>\n",
              "      <td>Annual prevalence of treated glaucoma</td>\n",
              "      <td>Secondary glaucoma</td>\n",
              "      <td>All ages</td>\n",
              "      <td>Female</td>\n",
              "      <td>All races</td>\n",
              "      <td>Diabetes</td>\n",
              "      <td>Yes</td>\n",
              "      <td>%</td>\n",
              "      <td>Crude Prevalence</td>\n",
              "      <td>0.00</td>\n",
              "      <td>NaN</td>\n",
              "      <td>NaN</td>\n",
              "      <td>0.00</td>\n",
              "      <td>0.92</td>\n",
              "      <td>0.0</td>\n",
              "      <td>400.0</td>\n",
              "      <td>2</td>\n",
              "      <td>TCOND</td>\n",
              "      <td>CDXC5</td>\n",
              "      <td>QDXC5</td>\n",
              "      <td>R5_10</td>\n",
              "      <td>CRDPREV</td>\n",
              "      <td>AGEALL</td>\n",
              "      <td>GF</td>\n",
              "      <td>ALLRACE</td>\n",
              "      <td>RFDM</td>\n",
              "      <td>RFYES</td>\n",
              "      <td>POINT (-147.722059 64.84507996)</td>\n",
              "    </tr>\n",
              "    <tr>\n",
              "      <th>2</th>\n",
              "      <td>2016</td>\n",
              "      <td>2016</td>\n",
              "      <td>VT</td>\n",
              "      <td>Vermont</td>\n",
              "      <td>MSCANCC</td>\n",
              "      <td>Eye Health Conditions</td>\n",
              "      <td>Cataracts</td>\n",
              "      <td>Annual prevalence of treated cataracts</td>\n",
              "      <td>Senile cataract</td>\n",
              "      <td>0-17 years</td>\n",
              "      <td>Male</td>\n",
              "      <td>All races</td>\n",
              "      <td>Diabetes</td>\n",
              "      <td>No</td>\n",
              "      <td>%</td>\n",
              "      <td>Crude Prevalence</td>\n",
              "      <td>0.00</td>\n",
              "      <td>NaN</td>\n",
              "      <td>NaN</td>\n",
              "      <td>0.00</td>\n",
              "      <td>0.22</td>\n",
              "      <td>0.0</td>\n",
              "      <td>1700.0</td>\n",
              "      <td>50</td>\n",
              "      <td>TCOND</td>\n",
              "      <td>CDXC6</td>\n",
              "      <td>QDXC6</td>\n",
              "      <td>R6_1</td>\n",
              "      <td>CRDPREV</td>\n",
              "      <td>AGE017</td>\n",
              "      <td>GM</td>\n",
              "      <td>ALLRACE</td>\n",
              "      <td>RFDM</td>\n",
              "      <td>RFNO</td>\n",
              "      <td>POINT (-72.51764079 43.62538124)</td>\n",
              "    </tr>\n",
              "    <tr>\n",
              "      <th>3</th>\n",
              "      <td>2016</td>\n",
              "      <td>2016</td>\n",
              "      <td>US</td>\n",
              "      <td>National</td>\n",
              "      <td>MSCANCC</td>\n",
              "      <td>Eye Health Conditions</td>\n",
              "      <td>Cataracts</td>\n",
              "      <td>Annual prevalence of treated cataracts</td>\n",
              "      <td>Aphakia and disorders of lens</td>\n",
              "      <td>All ages</td>\n",
              "      <td>Female</td>\n",
              "      <td>All races</td>\n",
              "      <td>All patients</td>\n",
              "      <td>Total</td>\n",
              "      <td>%</td>\n",
              "      <td>Crude Prevalence</td>\n",
              "      <td>0.02</td>\n",
              "      <td>NaN</td>\n",
              "      <td>NaN</td>\n",
              "      <td>0.02</td>\n",
              "      <td>0.02</td>\n",
              "      <td>3000.0</td>\n",
              "      <td>14874100.0</td>\n",
              "      <td>59</td>\n",
              "      <td>TCOND</td>\n",
              "      <td>CDXC6</td>\n",
              "      <td>QDXC6</td>\n",
              "      <td>R6_6</td>\n",
              "      <td>CRDPREV</td>\n",
              "      <td>AGEALL</td>\n",
              "      <td>GF</td>\n",
              "      <td>ALLRACE</td>\n",
              "      <td>RFALL</td>\n",
              "      <td>RFTOT</td>\n",
              "      <td>NaN</td>\n",
              "    </tr>\n",
              "    <tr>\n",
              "      <th>4</th>\n",
              "      <td>2016</td>\n",
              "      <td>2016</td>\n",
              "      <td>XX</td>\n",
              "      <td>Missing Location</td>\n",
              "      <td>MSCANCC</td>\n",
              "      <td>Eye Health Conditions</td>\n",
              "      <td>Cataracts</td>\n",
              "      <td>Annual prevalence of treated cataracts</td>\n",
              "      <td>Senile cataract</td>\n",
              "      <td>18-39 years</td>\n",
              "      <td>All genders</td>\n",
              "      <td>All races</td>\n",
              "      <td>Diabetes</td>\n",
              "      <td>No</td>\n",
              "      <td>%</td>\n",
              "      <td>Crude Prevalence</td>\n",
              "      <td>0.04</td>\n",
              "      <td>NaN</td>\n",
              "      <td>NaN</td>\n",
              "      <td>0.02</td>\n",
              "      <td>0.07</td>\n",
              "      <td>0.0</td>\n",
              "      <td>38100.0</td>\n",
              "      <td>99</td>\n",
              "      <td>TCOND</td>\n",
              "      <td>CDXC6</td>\n",
              "      <td>QDXC6</td>\n",
              "      <td>R6_1</td>\n",
              "      <td>CRDPREV</td>\n",
              "      <td>AGE1839</td>\n",
              "      <td>GALL</td>\n",
              "      <td>ALLRACE</td>\n",
              "      <td>RFDM</td>\n",
              "      <td>RFNO</td>\n",
              "      <td>NaN</td>\n",
              "    </tr>\n",
              "    <tr>\n",
              "      <th>...</th>\n",
              "      <td>...</td>\n",
              "      <td>...</td>\n",
              "      <td>...</td>\n",
              "      <td>...</td>\n",
              "      <td>...</td>\n",
              "      <td>...</td>\n",
              "      <td>...</td>\n",
              "      <td>...</td>\n",
              "      <td>...</td>\n",
              "      <td>...</td>\n",
              "      <td>...</td>\n",
              "      <td>...</td>\n",
              "      <td>...</td>\n",
              "      <td>...</td>\n",
              "      <td>...</td>\n",
              "      <td>...</td>\n",
              "      <td>...</td>\n",
              "      <td>...</td>\n",
              "      <td>...</td>\n",
              "      <td>...</td>\n",
              "      <td>...</td>\n",
              "      <td>...</td>\n",
              "      <td>...</td>\n",
              "      <td>...</td>\n",
              "      <td>...</td>\n",
              "      <td>...</td>\n",
              "      <td>...</td>\n",
              "      <td>...</td>\n",
              "      <td>...</td>\n",
              "      <td>...</td>\n",
              "      <td>...</td>\n",
              "      <td>...</td>\n",
              "      <td>...</td>\n",
              "      <td>...</td>\n",
              "      <td>...</td>\n",
              "    </tr>\n",
              "    <tr>\n",
              "      <th>995</th>\n",
              "      <td>2016</td>\n",
              "      <td>2016</td>\n",
              "      <td>MT</td>\n",
              "      <td>Montana</td>\n",
              "      <td>MSCANCC</td>\n",
              "      <td>Eye Health Conditions</td>\n",
              "      <td>Orbital and External Disease</td>\n",
              "      <td>Annual prevalence of treated orbital and exter...</td>\n",
              "      <td>Dry eye syndrome</td>\n",
              "      <td>All ages</td>\n",
              "      <td>All genders</td>\n",
              "      <td>All races</td>\n",
              "      <td>Hypertension</td>\n",
              "      <td>Yes</td>\n",
              "      <td>%</td>\n",
              "      <td>Crude Prevalence</td>\n",
              "      <td>1.96</td>\n",
              "      <td>NaN</td>\n",
              "      <td>NaN</td>\n",
              "      <td>1.47</td>\n",
              "      <td>2.56</td>\n",
              "      <td>100.0</td>\n",
              "      <td>2700.0</td>\n",
              "      <td>30</td>\n",
              "      <td>TCOND</td>\n",
              "      <td>CDXC14</td>\n",
              "      <td>QDXC14</td>\n",
              "      <td>R14_5</td>\n",
              "      <td>CRDPREV</td>\n",
              "      <td>AGEALL</td>\n",
              "      <td>GALL</td>\n",
              "      <td>ALLRACE</td>\n",
              "      <td>RFHT</td>\n",
              "      <td>RFYES</td>\n",
              "      <td>POINT (-109.4244206 47.06652897)</td>\n",
              "    </tr>\n",
              "    <tr>\n",
              "      <th>996</th>\n",
              "      <td>2016</td>\n",
              "      <td>2016</td>\n",
              "      <td>FL</td>\n",
              "      <td>Florida</td>\n",
              "      <td>MSCANCC</td>\n",
              "      <td>Eye Health Conditions</td>\n",
              "      <td>Cataracts</td>\n",
              "      <td>Annual prevalence of treated cataracts</td>\n",
              "      <td>Non-congenital cataract</td>\n",
              "      <td>All ages</td>\n",
              "      <td>Female</td>\n",
              "      <td>All races</td>\n",
              "      <td>Hypertension</td>\n",
              "      <td>Yes</td>\n",
              "      <td>%</td>\n",
              "      <td>Crude Prevalence</td>\n",
              "      <td>0.79</td>\n",
              "      <td>NaN</td>\n",
              "      <td>NaN</td>\n",
              "      <td>0.75</td>\n",
              "      <td>0.84</td>\n",
              "      <td>1200.0</td>\n",
              "      <td>147100.0</td>\n",
              "      <td>12</td>\n",
              "      <td>TCOND</td>\n",
              "      <td>CDXC6</td>\n",
              "      <td>QDXC6</td>\n",
              "      <td>R6_2</td>\n",
              "      <td>CRDPREV</td>\n",
              "      <td>AGEALL</td>\n",
              "      <td>GF</td>\n",
              "      <td>ALLRACE</td>\n",
              "      <td>RFHT</td>\n",
              "      <td>RFYES</td>\n",
              "      <td>POINT (-81.92896054 28.93204038)</td>\n",
              "    </tr>\n",
              "    <tr>\n",
              "      <th>997</th>\n",
              "      <td>2016</td>\n",
              "      <td>2016</td>\n",
              "      <td>WA</td>\n",
              "      <td>Washington</td>\n",
              "      <td>MSCANCC</td>\n",
              "      <td>Eye Health Conditions</td>\n",
              "      <td>Infectious and Inflammatory Diseases</td>\n",
              "      <td>Annual prevalence of treated infectious and in...</td>\n",
              "      <td>Infectious diseases</td>\n",
              "      <td>40-64 years</td>\n",
              "      <td>Male</td>\n",
              "      <td>All races</td>\n",
              "      <td>All patients</td>\n",
              "      <td>Total</td>\n",
              "      <td>%</td>\n",
              "      <td>Crude Prevalence</td>\n",
              "      <td>0.21</td>\n",
              "      <td>NaN</td>\n",
              "      <td>NaN</td>\n",
              "      <td>0.18</td>\n",
              "      <td>0.24</td>\n",
              "      <td>200.0</td>\n",
              "      <td>115800.0</td>\n",
              "      <td>53</td>\n",
              "      <td>TCOND</td>\n",
              "      <td>CDXC13</td>\n",
              "      <td>QDXC13</td>\n",
              "      <td>R13_1</td>\n",
              "      <td>CRDPREV</td>\n",
              "      <td>AGE4064</td>\n",
              "      <td>GM</td>\n",
              "      <td>ALLRACE</td>\n",
              "      <td>RFALL</td>\n",
              "      <td>RFTOT</td>\n",
              "      <td>POINT (-120.4700108 47.52227863)</td>\n",
              "    </tr>\n",
              "    <tr>\n",
              "      <th>998</th>\n",
              "      <td>2016</td>\n",
              "      <td>2016</td>\n",
              "      <td>MS</td>\n",
              "      <td>Mississippi</td>\n",
              "      <td>MSCANCC</td>\n",
              "      <td>Service Utilization</td>\n",
              "      <td>Cataract Surgery</td>\n",
              "      <td>Percentage of people with diagnosed cataract w...</td>\n",
              "      <td>Any cataract treatment</td>\n",
              "      <td>All ages</td>\n",
              "      <td>Male</td>\n",
              "      <td>All races</td>\n",
              "      <td>Diabetes</td>\n",
              "      <td>No</td>\n",
              "      <td>%</td>\n",
              "      <td>Crude Prevalence</td>\n",
              "      <td>0.20</td>\n",
              "      <td>NaN</td>\n",
              "      <td>NaN</td>\n",
              "      <td>0.18</td>\n",
              "      <td>0.22</td>\n",
              "      <td>300.0</td>\n",
              "      <td>150200.0</td>\n",
              "      <td>28</td>\n",
              "      <td>TUTL</td>\n",
              "      <td>CCATS</td>\n",
              "      <td>QCATS</td>\n",
              "      <td>RCATANY</td>\n",
              "      <td>CRDPREV</td>\n",
              "      <td>AGEALL</td>\n",
              "      <td>GM</td>\n",
              "      <td>ALLRACE</td>\n",
              "      <td>RFDM</td>\n",
              "      <td>RFNO</td>\n",
              "      <td>POINT (-89.53803082 32.7455101)</td>\n",
              "    </tr>\n",
              "    <tr>\n",
              "      <th>999</th>\n",
              "      <td>2016</td>\n",
              "      <td>2016</td>\n",
              "      <td>AR</td>\n",
              "      <td>Arkansas</td>\n",
              "      <td>MSCANCC</td>\n",
              "      <td>Eye Health Conditions</td>\n",
              "      <td>Age Related Macular Degeneration</td>\n",
              "      <td>Annual prevalence of treated age related macul...</td>\n",
              "      <td>Dry-form age-related macular degeneration</td>\n",
              "      <td>0-17 years</td>\n",
              "      <td>Female</td>\n",
              "      <td>All races</td>\n",
              "      <td>Diabetes</td>\n",
              "      <td>No</td>\n",
              "      <td>%</td>\n",
              "      <td>Crude Prevalence</td>\n",
              "      <td>0.01</td>\n",
              "      <td>NaN</td>\n",
              "      <td>NaN</td>\n",
              "      <td>0.00</td>\n",
              "      <td>0.04</td>\n",
              "      <td>0.0</td>\n",
              "      <td>19200.0</td>\n",
              "      <td>5</td>\n",
              "      <td>TCOND</td>\n",
              "      <td>CDXC3</td>\n",
              "      <td>QDXC3</td>\n",
              "      <td>R3_3</td>\n",
              "      <td>CRDPREV</td>\n",
              "      <td>AGE017</td>\n",
              "      <td>GF</td>\n",
              "      <td>ALLRACE</td>\n",
              "      <td>RFDM</td>\n",
              "      <td>RFNO</td>\n",
              "      <td>POINT (-92.27449074 34.74865012)</td>\n",
              "    </tr>\n",
              "  </tbody>\n",
              "</table>\n",
              "<p>1000 rows × 35 columns</p>\n",
              "</div>"
            ],
            "text/plain": [
              "     yearstart  yearend  ... riskfactorresponseid                       geolocation\n",
              "0         2016     2016  ...                RFYES  POINT (-75.54397043 42.82700103)\n",
              "1         2016     2016  ...                RFYES   POINT (-147.722059 64.84507996)\n",
              "2         2016     2016  ...                 RFNO  POINT (-72.51764079 43.62538124)\n",
              "3         2016     2016  ...                RFTOT                               NaN\n",
              "4         2016     2016  ...                 RFNO                               NaN\n",
              "..         ...      ...  ...                  ...                               ...\n",
              "995       2016     2016  ...                RFYES  POINT (-109.4244206 47.06652897)\n",
              "996       2016     2016  ...                RFYES  POINT (-81.92896054 28.93204038)\n",
              "997       2016     2016  ...                RFTOT  POINT (-120.4700108 47.52227863)\n",
              "998       2016     2016  ...                 RFNO   POINT (-89.53803082 32.7455101)\n",
              "999       2016     2016  ...                 RFNO  POINT (-92.27449074 34.74865012)\n",
              "\n",
              "[1000 rows x 35 columns]"
            ]
          },
          "metadata": {
            "tags": []
          },
          "execution_count": 5
        }
      ]
    },
    {
      "cell_type": "markdown",
      "metadata": {
        "id": "flXXB-FKqtdE"
      },
      "source": [
        "## 1.Potential IV / DV"
      ]
    },
    {
      "cell_type": "code",
      "metadata": {
        "colab": {
          "base_uri": "https://localhost:8080/"
        },
        "id": "tKbwF4GFJY8z",
        "outputId": "a47f2465-26ab-478d-c1a6-4f36505a4c83"
      },
      "source": [
        "df4.shape\n",
        "## Here we can see the number of rows and columns "
      ],
      "execution_count": null,
      "outputs": [
        {
          "output_type": "execute_result",
          "data": {
            "text/plain": [
              "(1000, 35)"
            ]
          },
          "metadata": {
            "tags": []
          },
          "execution_count": 6
        }
      ]
    },
    {
      "cell_type": "code",
      "metadata": {
        "colab": {
          "base_uri": "https://localhost:8080/"
        },
        "id": "DPVDfQPqrCRE",
        "outputId": "ef6a80a5-3086-491e-fc5a-3abc6d49b346"
      },
      "source": [
        "df4.info()\n",
        "#this provides an overview of column names "
      ],
      "execution_count": null,
      "outputs": [
        {
          "output_type": "stream",
          "text": [
            "<class 'pandas.core.frame.DataFrame'>\n",
            "RangeIndex: 1000 entries, 0 to 999\n",
            "Data columns (total 35 columns):\n",
            " #   Column                      Non-Null Count  Dtype  \n",
            "---  ------                      --------------  -----  \n",
            " 0   yearstart                   1000 non-null   int64  \n",
            " 1   yearend                     1000 non-null   int64  \n",
            " 2   locationabbr                1000 non-null   object \n",
            " 3   locationdesc                1000 non-null   object \n",
            " 4   datasource                  1000 non-null   object \n",
            " 5   topic                       1000 non-null   object \n",
            " 6   category                    1000 non-null   object \n",
            " 7   question                    1000 non-null   object \n",
            " 8   response                    1000 non-null   object \n",
            " 9   age                         1000 non-null   object \n",
            " 10  gender                      1000 non-null   object \n",
            " 11  raceethnicity               1000 non-null   object \n",
            " 12  riskfactor                  1000 non-null   object \n",
            " 13  riskfactorresponse          1000 non-null   object \n",
            " 14  data_value_unit             1000 non-null   object \n",
            " 15  data_value_type             1000 non-null   object \n",
            " 16  data_value                  945 non-null    float64\n",
            " 17  data_value_footnote_symbol  55 non-null     object \n",
            " 18  data_value_footnote         55 non-null     object \n",
            " 19  low_confidence_limit        945 non-null    float64\n",
            " 20  high_confidence_limit       945 non-null    float64\n",
            " 21  numerator                   945 non-null    float64\n",
            " 22  sample_size                 945 non-null    float64\n",
            " 23  locationid                  1000 non-null   int64  \n",
            " 24  topicid                     1000 non-null   object \n",
            " 25  categoryid                  1000 non-null   object \n",
            " 26  questionid                  1000 non-null   object \n",
            " 27  responseid                  1000 non-null   object \n",
            " 28  datavaluetypeid             1000 non-null   object \n",
            " 29  ageid                       1000 non-null   object \n",
            " 30  genderid                    1000 non-null   object \n",
            " 31  raceethnicityid             1000 non-null   object \n",
            " 32  riskfactorid                1000 non-null   object \n",
            " 33  riskfactorresponseid        1000 non-null   object \n",
            " 34  geolocation                 828 non-null    object \n",
            "dtypes: float64(5), int64(3), object(27)\n",
            "memory usage: 273.6+ KB\n"
          ],
          "name": "stdout"
        }
      ]
    },
    {
      "cell_type": "code",
      "metadata": {
        "colab": {
          "base_uri": "https://localhost:8080/"
        },
        "id": "QXBdkKoWmuHT",
        "outputId": "a3b50b65-7b86-4937-f5ac-f35b02b5c8b6"
      },
      "source": [
        "list(df4)\n",
        "#an alternative to get column names in a list "
      ],
      "execution_count": null,
      "outputs": [
        {
          "output_type": "execute_result",
          "data": {
            "text/plain": [
              "['yearstart',\n",
              " 'yearend',\n",
              " 'locationabbr',\n",
              " 'locationdesc',\n",
              " 'datasource',\n",
              " 'topic',\n",
              " 'category',\n",
              " 'question',\n",
              " 'response',\n",
              " 'age',\n",
              " 'gender',\n",
              " 'raceethnicity',\n",
              " 'riskfactor',\n",
              " 'riskfactorresponse',\n",
              " 'data_value_unit',\n",
              " 'data_value_type',\n",
              " 'data_value',\n",
              " 'data_value_footnote_symbol',\n",
              " 'data_value_footnote',\n",
              " 'low_confidence_limit',\n",
              " 'high_confidence_limit',\n",
              " 'numerator',\n",
              " 'sample_size',\n",
              " 'locationid',\n",
              " 'topicid',\n",
              " 'categoryid',\n",
              " 'questionid',\n",
              " 'responseid',\n",
              " 'datavaluetypeid',\n",
              " 'ageid',\n",
              " 'genderid',\n",
              " 'raceethnicityid',\n",
              " 'riskfactorid',\n",
              " 'riskfactorresponseid',\n",
              " 'geolocation']"
            ]
          },
          "metadata": {
            "tags": []
          },
          "execution_count": 8
        }
      ]
    },
    {
      "cell_type": "code",
      "metadata": {
        "id": "egjR4U16QcQW"
      },
      "source": [
        "# Checking list of prevalence (%)  \n",
        "# list(df4.data_value)"
      ],
      "execution_count": null,
      "outputs": []
    },
    {
      "cell_type": "code",
      "metadata": {
        "colab": {
          "base_uri": "https://localhost:8080/",
          "height": 1000
        },
        "id": "xn0KMTKzha-k",
        "outputId": "fe5a8329-5f30-4c8c-c28f-4ea3433cc26d"
      },
      "source": [
        "#reorganizing the columns for the most relevant information\n",
        "df4.sample(20)[['locationabbr','age','gender','question','category','response','riskfactor','sample_size','numerator','data_value']].head(20)"
      ],
      "execution_count": null,
      "outputs": [
        {
          "output_type": "execute_result",
          "data": {
            "text/html": [
              "<div>\n",
              "<style scoped>\n",
              "    .dataframe tbody tr th:only-of-type {\n",
              "        vertical-align: middle;\n",
              "    }\n",
              "\n",
              "    .dataframe tbody tr th {\n",
              "        vertical-align: top;\n",
              "    }\n",
              "\n",
              "    .dataframe thead th {\n",
              "        text-align: right;\n",
              "    }\n",
              "</style>\n",
              "<table border=\"1\" class=\"dataframe\">\n",
              "  <thead>\n",
              "    <tr style=\"text-align: right;\">\n",
              "      <th></th>\n",
              "      <th>locationabbr</th>\n",
              "      <th>age</th>\n",
              "      <th>gender</th>\n",
              "      <th>question</th>\n",
              "      <th>category</th>\n",
              "      <th>response</th>\n",
              "      <th>riskfactor</th>\n",
              "      <th>sample_size</th>\n",
              "      <th>numerator</th>\n",
              "      <th>data_value</th>\n",
              "    </tr>\n",
              "  </thead>\n",
              "  <tbody>\n",
              "    <tr>\n",
              "      <th>680</th>\n",
              "      <td>WA</td>\n",
              "      <td>18-39 years</td>\n",
              "      <td>All genders</td>\n",
              "      <td>Percentage of people with diagnosed glaucoma w...</td>\n",
              "      <td>Treatment for glaucoma</td>\n",
              "      <td>Any glaucoma treatment</td>\n",
              "      <td>Hypertension</td>\n",
              "      <td>6200.0</td>\n",
              "      <td>0.0</td>\n",
              "      <td>0.02</td>\n",
              "    </tr>\n",
              "    <tr>\n",
              "      <th>684</th>\n",
              "      <td>AK</td>\n",
              "      <td>18-39 years</td>\n",
              "      <td>All genders</td>\n",
              "      <td>Annual prevalence of treated cornea disorders</td>\n",
              "      <td>Cornea Disorders</td>\n",
              "      <td>Keratoconus</td>\n",
              "      <td>Diabetes</td>\n",
              "      <td>200.0</td>\n",
              "      <td>0.0</td>\n",
              "      <td>0.00</td>\n",
              "    </tr>\n",
              "    <tr>\n",
              "      <th>998</th>\n",
              "      <td>MS</td>\n",
              "      <td>All ages</td>\n",
              "      <td>Male</td>\n",
              "      <td>Percentage of people with diagnosed cataract w...</td>\n",
              "      <td>Cataract Surgery</td>\n",
              "      <td>Any cataract treatment</td>\n",
              "      <td>Diabetes</td>\n",
              "      <td>150200.0</td>\n",
              "      <td>300.0</td>\n",
              "      <td>0.20</td>\n",
              "    </tr>\n",
              "    <tr>\n",
              "      <th>852</th>\n",
              "      <td>AK</td>\n",
              "      <td>0-17 years</td>\n",
              "      <td>All genders</td>\n",
              "      <td>Annual prevalence of treated retinal detachmen...</td>\n",
              "      <td>Retinal Detachment and Defects</td>\n",
              "      <td>All Retinal detachment and defects</td>\n",
              "      <td>Hypertension</td>\n",
              "      <td>NaN</td>\n",
              "      <td>NaN</td>\n",
              "      <td>NaN</td>\n",
              "    </tr>\n",
              "    <tr>\n",
              "      <th>264</th>\n",
              "      <td>US</td>\n",
              "      <td>0-17 years</td>\n",
              "      <td>All genders</td>\n",
              "      <td>Annual prevalence of treated glaucoma</td>\n",
              "      <td>Glaucoma</td>\n",
              "      <td>Primary open-angle glaucoma</td>\n",
              "      <td>Diabetes</td>\n",
              "      <td>6701600.0</td>\n",
              "      <td>0.0</td>\n",
              "      <td>0.00</td>\n",
              "    </tr>\n",
              "    <tr>\n",
              "      <th>793</th>\n",
              "      <td>ID</td>\n",
              "      <td>18-39 years</td>\n",
              "      <td>Male</td>\n",
              "      <td>Annual prevalence of treated cornea disorders</td>\n",
              "      <td>Cornea Disorders</td>\n",
              "      <td>Keratoconus</td>\n",
              "      <td>Diabetes</td>\n",
              "      <td>1100.0</td>\n",
              "      <td>0.0</td>\n",
              "      <td>0.47</td>\n",
              "    </tr>\n",
              "    <tr>\n",
              "      <th>996</th>\n",
              "      <td>FL</td>\n",
              "      <td>All ages</td>\n",
              "      <td>Female</td>\n",
              "      <td>Annual prevalence of treated cataracts</td>\n",
              "      <td>Cataracts</td>\n",
              "      <td>Non-congenital cataract</td>\n",
              "      <td>Hypertension</td>\n",
              "      <td>147100.0</td>\n",
              "      <td>1200.0</td>\n",
              "      <td>0.79</td>\n",
              "    </tr>\n",
              "    <tr>\n",
              "      <th>791</th>\n",
              "      <td>OR</td>\n",
              "      <td>40-64 years</td>\n",
              "      <td>Male</td>\n",
              "      <td>Annual prevalence of treated age related macul...</td>\n",
              "      <td>Age Related Macular Degeneration</td>\n",
              "      <td>Early stage age-related macular degeneration</td>\n",
              "      <td>All patients</td>\n",
              "      <td>60300.0</td>\n",
              "      <td>100.0</td>\n",
              "      <td>0.19</td>\n",
              "    </tr>\n",
              "    <tr>\n",
              "      <th>123</th>\n",
              "      <td>US</td>\n",
              "      <td>All ages</td>\n",
              "      <td>Male</td>\n",
              "      <td>Annual prevalence of treated diabetic eye dise...</td>\n",
              "      <td>Diabetic Eye Diseases</td>\n",
              "      <td>Diabetic macular edema</td>\n",
              "      <td>Hypertension</td>\n",
              "      <td>11794700.0</td>\n",
              "      <td>3500.0</td>\n",
              "      <td>0.03</td>\n",
              "    </tr>\n",
              "    <tr>\n",
              "      <th>881</th>\n",
              "      <td>WI</td>\n",
              "      <td>40-64 years</td>\n",
              "      <td>Female</td>\n",
              "      <td>Annual prevalence of treated other retinal dis...</td>\n",
              "      <td>Other Retinal Disorders</td>\n",
              "      <td>Macular edema (not diabetic)</td>\n",
              "      <td>Diabetes</td>\n",
              "      <td>122800.0</td>\n",
              "      <td>100.0</td>\n",
              "      <td>0.06</td>\n",
              "    </tr>\n",
              "    <tr>\n",
              "      <th>577</th>\n",
              "      <td>XX</td>\n",
              "      <td>40-64 years</td>\n",
              "      <td>Female</td>\n",
              "      <td>Percentage of people with diagnosed glaucoma w...</td>\n",
              "      <td>Treatment for glaucoma</td>\n",
              "      <td>Glaucoma surgery</td>\n",
              "      <td>Hypertension</td>\n",
              "      <td>16900.0</td>\n",
              "      <td>0.0</td>\n",
              "      <td>0.01</td>\n",
              "    </tr>\n",
              "    <tr>\n",
              "      <th>846</th>\n",
              "      <td>KS</td>\n",
              "      <td>40-64 years</td>\n",
              "      <td>Female</td>\n",
              "      <td>Percentage of people with diagnosed cataract w...</td>\n",
              "      <td>Cataract Surgery</td>\n",
              "      <td>Any cataract treatment</td>\n",
              "      <td>Diabetes</td>\n",
              "      <td>3800.0</td>\n",
              "      <td>100.0</td>\n",
              "      <td>2.03</td>\n",
              "    </tr>\n",
              "    <tr>\n",
              "      <th>532</th>\n",
              "      <td>HI</td>\n",
              "      <td>All ages</td>\n",
              "      <td>Female</td>\n",
              "      <td>Annual prevalence of treated retinal detachmen...</td>\n",
              "      <td>Retinal Detachment and Defects</td>\n",
              "      <td>All Retinal detachment and defects</td>\n",
              "      <td>All patients</td>\n",
              "      <td>1600.0</td>\n",
              "      <td>0.0</td>\n",
              "      <td>0.43</td>\n",
              "    </tr>\n",
              "    <tr>\n",
              "      <th>265</th>\n",
              "      <td>XX</td>\n",
              "      <td>65-84 years</td>\n",
              "      <td>Male</td>\n",
              "      <td>Annual prevalence of treated glaucoma</td>\n",
              "      <td>Glaucoma</td>\n",
              "      <td>All Glaucoma</td>\n",
              "      <td>Diabetes</td>\n",
              "      <td>NaN</td>\n",
              "      <td>NaN</td>\n",
              "      <td>NaN</td>\n",
              "    </tr>\n",
              "    <tr>\n",
              "      <th>953</th>\n",
              "      <td>NE</td>\n",
              "      <td>40-64 years</td>\n",
              "      <td>Male</td>\n",
              "      <td>Annual prevalence of treated disorders of refr...</td>\n",
              "      <td>Disorders of Refraction and Accommodation</td>\n",
              "      <td>Myopia</td>\n",
              "      <td>Diabetes</td>\n",
              "      <td>15100.0</td>\n",
              "      <td>200.0</td>\n",
              "      <td>1.46</td>\n",
              "    </tr>\n",
              "    <tr>\n",
              "      <th>529</th>\n",
              "      <td>VT</td>\n",
              "      <td>0-17 years</td>\n",
              "      <td>Female</td>\n",
              "      <td>Annual prevalence of treated disorders of refr...</td>\n",
              "      <td>Disorders of Refraction and Accommodation</td>\n",
              "      <td>Other refraction and accommodation disorders</td>\n",
              "      <td>Diabetes</td>\n",
              "      <td>1500.0</td>\n",
              "      <td>0.0</td>\n",
              "      <td>0.13</td>\n",
              "    </tr>\n",
              "    <tr>\n",
              "      <th>180</th>\n",
              "      <td>FL</td>\n",
              "      <td>18-39 years</td>\n",
              "      <td>Female</td>\n",
              "      <td>Annual prevalence of treated cataracts</td>\n",
              "      <td>Cataracts</td>\n",
              "      <td>Congenital Cataract</td>\n",
              "      <td>Hypertension</td>\n",
              "      <td>17400.0</td>\n",
              "      <td>0.0</td>\n",
              "      <td>0.01</td>\n",
              "    </tr>\n",
              "    <tr>\n",
              "      <th>103</th>\n",
              "      <td>SD</td>\n",
              "      <td>18-39 years</td>\n",
              "      <td>Male</td>\n",
              "      <td>Annual prevalence of treated glaucoma</td>\n",
              "      <td>Glaucoma</td>\n",
              "      <td>All Glaucoma</td>\n",
              "      <td>Diabetes</td>\n",
              "      <td>5900.0</td>\n",
              "      <td>0.0</td>\n",
              "      <td>0.39</td>\n",
              "    </tr>\n",
              "    <tr>\n",
              "      <th>956</th>\n",
              "      <td>TX</td>\n",
              "      <td>65-84 years</td>\n",
              "      <td>All genders</td>\n",
              "      <td>Annual prevalence of treated strabismus and am...</td>\n",
              "      <td>Strabismus and Amblyopia</td>\n",
              "      <td>Strabismus</td>\n",
              "      <td>Diabetes</td>\n",
              "      <td>1200.0</td>\n",
              "      <td>0.0</td>\n",
              "      <td>0.16</td>\n",
              "    </tr>\n",
              "    <tr>\n",
              "      <th>240</th>\n",
              "      <td>KY</td>\n",
              "      <td>40-64 years</td>\n",
              "      <td>All genders</td>\n",
              "      <td>Annual prevalence of treated cataracts</td>\n",
              "      <td>Cataracts</td>\n",
              "      <td>Pseudophakia</td>\n",
              "      <td>Diabetes</td>\n",
              "      <td>230200.0</td>\n",
              "      <td>1800.0</td>\n",
              "      <td>0.77</td>\n",
              "    </tr>\n",
              "  </tbody>\n",
              "</table>\n",
              "</div>"
            ],
            "text/plain": [
              "    locationabbr          age       gender  ... sample_size numerator data_value\n",
              "680           WA  18-39 years  All genders  ...      6200.0       0.0       0.02\n",
              "684           AK  18-39 years  All genders  ...       200.0       0.0       0.00\n",
              "998           MS     All ages         Male  ...    150200.0     300.0       0.20\n",
              "852           AK   0-17 years  All genders  ...         NaN       NaN        NaN\n",
              "264           US   0-17 years  All genders  ...   6701600.0       0.0       0.00\n",
              "793           ID  18-39 years         Male  ...      1100.0       0.0       0.47\n",
              "996           FL     All ages       Female  ...    147100.0    1200.0       0.79\n",
              "791           OR  40-64 years         Male  ...     60300.0     100.0       0.19\n",
              "123           US     All ages         Male  ...  11794700.0    3500.0       0.03\n",
              "881           WI  40-64 years       Female  ...    122800.0     100.0       0.06\n",
              "577           XX  40-64 years       Female  ...     16900.0       0.0       0.01\n",
              "846           KS  40-64 years       Female  ...      3800.0     100.0       2.03\n",
              "532           HI     All ages       Female  ...      1600.0       0.0       0.43\n",
              "265           XX  65-84 years         Male  ...         NaN       NaN        NaN\n",
              "953           NE  40-64 years         Male  ...     15100.0     200.0       1.46\n",
              "529           VT   0-17 years       Female  ...      1500.0       0.0       0.13\n",
              "180           FL  18-39 years       Female  ...     17400.0       0.0       0.01\n",
              "103           SD  18-39 years         Male  ...      5900.0       0.0       0.39\n",
              "956           TX  65-84 years  All genders  ...      1200.0       0.0       0.16\n",
              "240           KY  40-64 years  All genders  ...    230200.0    1800.0       0.77\n",
              "\n",
              "[20 rows x 10 columns]"
            ]
          },
          "metadata": {
            "tags": []
          },
          "execution_count": 10
        }
      ]
    },
    {
      "cell_type": "markdown",
      "metadata": {
        "id": "DIhDa0IMrOZ2"
      },
      "source": [
        "Potential IV : age, gender, risk factor\n",
        "\n",
        "\n",
        "Potential DV : data_value(which represents prevalence(%), numerator(which represents number of patients with condition)"
      ]
    },
    {
      "cell_type": "markdown",
      "metadata": {
        "id": "mpAA1QNrtStv"
      },
      "source": [
        "## 2. Missing Data\n",
        "\n"
      ]
    },
    {
      "cell_type": "code",
      "metadata": {
        "colab": {
          "base_uri": "https://localhost:8080/"
        },
        "id": "oTpywM1gtWZr",
        "outputId": "ba8560ce-cd29-4021-b431-633f2510abba"
      },
      "source": [
        "df4['data_value'].isnull().value_counts()"
      ],
      "execution_count": null,
      "outputs": [
        {
          "output_type": "execute_result",
          "data": {
            "text/plain": [
              "False    945\n",
              "True      55\n",
              "Name: data_value, dtype: int64"
            ]
          },
          "metadata": {
            "tags": []
          },
          "execution_count": 11
        }
      ]
    },
    {
      "cell_type": "code",
      "metadata": {
        "id": "U9lDTZVjbHiK",
        "colab": {
          "base_uri": "https://localhost:8080/"
        },
        "outputId": "9e4d45d6-8afc-4f01-af46-3e0c84b67177"
      },
      "source": [
        "#alternative way for do value counts\n",
        "df4.info('show_counts')"
      ],
      "execution_count": null,
      "outputs": [
        {
          "output_type": "stream",
          "text": [
            "<class 'pandas.core.frame.DataFrame'>\n",
            "RangeIndex: 1000 entries, 0 to 999\n",
            "Data columns (total 35 columns):\n",
            " #   Column                      Non-Null Count  Dtype  \n",
            "---  ------                      --------------  -----  \n",
            " 0   yearstart                   1000 non-null   int64  \n",
            " 1   yearend                     1000 non-null   int64  \n",
            " 2   locationabbr                1000 non-null   object \n",
            " 3   locationdesc                1000 non-null   object \n",
            " 4   datasource                  1000 non-null   object \n",
            " 5   topic                       1000 non-null   object \n",
            " 6   category                    1000 non-null   object \n",
            " 7   question                    1000 non-null   object \n",
            " 8   response                    1000 non-null   object \n",
            " 9   age                         1000 non-null   object \n",
            " 10  gender                      1000 non-null   object \n",
            " 11  raceethnicity               1000 non-null   object \n",
            " 12  riskfactor                  1000 non-null   object \n",
            " 13  riskfactorresponse          1000 non-null   object \n",
            " 14  data_value_unit             1000 non-null   object \n",
            " 15  data_value_type             1000 non-null   object \n",
            " 16  data_value                  945 non-null    float64\n",
            " 17  data_value_footnote_symbol  55 non-null     object \n",
            " 18  data_value_footnote         55 non-null     object \n",
            " 19  low_confidence_limit        945 non-null    float64\n",
            " 20  high_confidence_limit       945 non-null    float64\n",
            " 21  numerator                   945 non-null    float64\n",
            " 22  sample_size                 945 non-null    float64\n",
            " 23  locationid                  1000 non-null   int64  \n",
            " 24  topicid                     1000 non-null   object \n",
            " 25  categoryid                  1000 non-null   object \n",
            " 26  questionid                  1000 non-null   object \n",
            " 27  responseid                  1000 non-null   object \n",
            " 28  datavaluetypeid             1000 non-null   object \n",
            " 29  ageid                       1000 non-null   object \n",
            " 30  genderid                    1000 non-null   object \n",
            " 31  raceethnicityid             1000 non-null   object \n",
            " 32  riskfactorid                1000 non-null   object \n",
            " 33  riskfactorresponseid        1000 non-null   object \n",
            " 34  geolocation                 828 non-null    object \n",
            "dtypes: float64(5), int64(3), object(27)\n",
            "memory usage: 273.6+ KB\n"
          ],
          "name": "stdout"
        }
      ]
    },
    {
      "cell_type": "markdown",
      "metadata": {
        "id": "-tE1SQ_CZEX2"
      },
      "source": [
        "## 3.Transformations "
      ]
    },
    {
      "cell_type": "code",
      "metadata": {
        "colab": {
          "base_uri": "https://localhost:8080/"
        },
        "id": "82fuXeMt10Hm",
        "outputId": "94c273dd-3568-41cb-8cc1-78debcfa1080"
      },
      "source": [
        "#Transformation 1 : to distinguish high prevalence rates versus low prevalence rates \n",
        "df4['data_value_mod'] = ''\n",
        "df4['data_value_mod']"
      ],
      "execution_count": null,
      "outputs": [
        {
          "output_type": "execute_result",
          "data": {
            "text/plain": [
              "0       \n",
              "1       \n",
              "2       \n",
              "3       \n",
              "4       \n",
              "      ..\n",
              "995     \n",
              "996     \n",
              "997     \n",
              "998     \n",
              "999     \n",
              "Name: data_value_mod, Length: 1000, dtype: object"
            ]
          },
          "metadata": {
            "tags": []
          },
          "execution_count": 13
        }
      ]
    },
    {
      "cell_type": "code",
      "metadata": {
        "id": "qNcQOkT32cTu"
      },
      "source": [
        "for idx, row in df4.iterrows():\n",
        "  if row['data_value'] >= 1.36:\n",
        "    df4.loc[idx, 'data_value_mod'] = 'high prevalence'\n",
        "  else:\n",
        "    df4.loc[idx, 'data_value_mod'] = 'low prevalence'"
      ],
      "execution_count": null,
      "outputs": []
    },
    {
      "cell_type": "code",
      "metadata": {
        "colab": {
          "base_uri": "https://localhost:8080/",
          "height": 357
        },
        "id": "5ZS12yEe3UWK",
        "outputId": "f0f41a1f-403c-4ad6-8875-af57d97581e7"
      },
      "source": [
        "df4.sample(10)[['data_value', 'data_value_mod']]\n"
      ],
      "execution_count": null,
      "outputs": [
        {
          "output_type": "execute_result",
          "data": {
            "text/html": [
              "<div>\n",
              "<style scoped>\n",
              "    .dataframe tbody tr th:only-of-type {\n",
              "        vertical-align: middle;\n",
              "    }\n",
              "\n",
              "    .dataframe tbody tr th {\n",
              "        vertical-align: top;\n",
              "    }\n",
              "\n",
              "    .dataframe thead th {\n",
              "        text-align: right;\n",
              "    }\n",
              "</style>\n",
              "<table border=\"1\" class=\"dataframe\">\n",
              "  <thead>\n",
              "    <tr style=\"text-align: right;\">\n",
              "      <th></th>\n",
              "      <th>data_value</th>\n",
              "      <th>data_value_mod</th>\n",
              "    </tr>\n",
              "  </thead>\n",
              "  <tbody>\n",
              "    <tr>\n",
              "      <th>483</th>\n",
              "      <td>2.12</td>\n",
              "      <td>high prevalence</td>\n",
              "    </tr>\n",
              "    <tr>\n",
              "      <th>338</th>\n",
              "      <td>0.11</td>\n",
              "      <td>low prevalence</td>\n",
              "    </tr>\n",
              "    <tr>\n",
              "      <th>970</th>\n",
              "      <td>0.01</td>\n",
              "      <td>low prevalence</td>\n",
              "    </tr>\n",
              "    <tr>\n",
              "      <th>450</th>\n",
              "      <td>NaN</td>\n",
              "      <td>low prevalence</td>\n",
              "    </tr>\n",
              "    <tr>\n",
              "      <th>470</th>\n",
              "      <td>0.00</td>\n",
              "      <td>low prevalence</td>\n",
              "    </tr>\n",
              "    <tr>\n",
              "      <th>115</th>\n",
              "      <td>0.75</td>\n",
              "      <td>low prevalence</td>\n",
              "    </tr>\n",
              "    <tr>\n",
              "      <th>577</th>\n",
              "      <td>0.01</td>\n",
              "      <td>low prevalence</td>\n",
              "    </tr>\n",
              "    <tr>\n",
              "      <th>178</th>\n",
              "      <td>0.02</td>\n",
              "      <td>low prevalence</td>\n",
              "    </tr>\n",
              "    <tr>\n",
              "      <th>263</th>\n",
              "      <td>0.01</td>\n",
              "      <td>low prevalence</td>\n",
              "    </tr>\n",
              "    <tr>\n",
              "      <th>876</th>\n",
              "      <td>1.17</td>\n",
              "      <td>low prevalence</td>\n",
              "    </tr>\n",
              "  </tbody>\n",
              "</table>\n",
              "</div>"
            ],
            "text/plain": [
              "     data_value   data_value_mod\n",
              "483        2.12  high prevalence\n",
              "338        0.11   low prevalence\n",
              "970        0.01   low prevalence\n",
              "450         NaN   low prevalence\n",
              "470        0.00   low prevalence\n",
              "115        0.75   low prevalence\n",
              "577        0.01   low prevalence\n",
              "178        0.02   low prevalence\n",
              "263        0.01   low prevalence\n",
              "876        1.17   low prevalence"
            ]
          },
          "metadata": {
            "tags": []
          },
          "execution_count": 15
        }
      ]
    },
    {
      "cell_type": "code",
      "metadata": {
        "id": "pPMrtQxjCWcB"
      },
      "source": [
        "## Comparing another value to distinguish high vs. low rates of prevalence \n",
        "def rules2(row):\n",
        "  if row['data_value'] >= 90:\n",
        "    return 'high prevalence'\n",
        "  elif row['data_value'] <= 90:\n",
        "    return 'low prevalence'"
      ],
      "execution_count": null,
      "outputs": []
    },
    {
      "cell_type": "code",
      "metadata": {
        "id": "ZErcm8NZC1VK"
      },
      "source": [
        "df4['data_value_mod3'] = df4.apply(rules2, 1)"
      ],
      "execution_count": null,
      "outputs": []
    },
    {
      "cell_type": "code",
      "metadata": {
        "colab": {
          "base_uri": "https://localhost:8080/",
          "height": 357
        },
        "id": "z92c64baDhx0",
        "outputId": "d2653068-c02f-48ee-e20e-663d2534cb15"
      },
      "source": [
        "df4.sample(10)[['data_value','data_value_mod', 'data_value_mod3']]"
      ],
      "execution_count": null,
      "outputs": [
        {
          "output_type": "execute_result",
          "data": {
            "text/html": [
              "<div>\n",
              "<style scoped>\n",
              "    .dataframe tbody tr th:only-of-type {\n",
              "        vertical-align: middle;\n",
              "    }\n",
              "\n",
              "    .dataframe tbody tr th {\n",
              "        vertical-align: top;\n",
              "    }\n",
              "\n",
              "    .dataframe thead th {\n",
              "        text-align: right;\n",
              "    }\n",
              "</style>\n",
              "<table border=\"1\" class=\"dataframe\">\n",
              "  <thead>\n",
              "    <tr style=\"text-align: right;\">\n",
              "      <th></th>\n",
              "      <th>data_value</th>\n",
              "      <th>data_value_mod</th>\n",
              "      <th>data_value_mod3</th>\n",
              "    </tr>\n",
              "  </thead>\n",
              "  <tbody>\n",
              "    <tr>\n",
              "      <th>931</th>\n",
              "      <td>NaN</td>\n",
              "      <td>low prevalence</td>\n",
              "      <td>None</td>\n",
              "    </tr>\n",
              "    <tr>\n",
              "      <th>173</th>\n",
              "      <td>0.17</td>\n",
              "      <td>low prevalence</td>\n",
              "      <td>low prevalence</td>\n",
              "    </tr>\n",
              "    <tr>\n",
              "      <th>686</th>\n",
              "      <td>0.00</td>\n",
              "      <td>low prevalence</td>\n",
              "      <td>low prevalence</td>\n",
              "    </tr>\n",
              "    <tr>\n",
              "      <th>190</th>\n",
              "      <td>0.67</td>\n",
              "      <td>low prevalence</td>\n",
              "      <td>low prevalence</td>\n",
              "    </tr>\n",
              "    <tr>\n",
              "      <th>943</th>\n",
              "      <td>0.04</td>\n",
              "      <td>low prevalence</td>\n",
              "      <td>low prevalence</td>\n",
              "    </tr>\n",
              "    <tr>\n",
              "      <th>44</th>\n",
              "      <td>0.34</td>\n",
              "      <td>low prevalence</td>\n",
              "      <td>low prevalence</td>\n",
              "    </tr>\n",
              "    <tr>\n",
              "      <th>681</th>\n",
              "      <td>0.94</td>\n",
              "      <td>low prevalence</td>\n",
              "      <td>low prevalence</td>\n",
              "    </tr>\n",
              "    <tr>\n",
              "      <th>254</th>\n",
              "      <td>0.91</td>\n",
              "      <td>low prevalence</td>\n",
              "      <td>low prevalence</td>\n",
              "    </tr>\n",
              "    <tr>\n",
              "      <th>251</th>\n",
              "      <td>1.92</td>\n",
              "      <td>high prevalence</td>\n",
              "      <td>low prevalence</td>\n",
              "    </tr>\n",
              "    <tr>\n",
              "      <th>844</th>\n",
              "      <td>0.03</td>\n",
              "      <td>low prevalence</td>\n",
              "      <td>low prevalence</td>\n",
              "    </tr>\n",
              "  </tbody>\n",
              "</table>\n",
              "</div>"
            ],
            "text/plain": [
              "     data_value   data_value_mod data_value_mod3\n",
              "931         NaN   low prevalence            None\n",
              "173        0.17   low prevalence  low prevalence\n",
              "686        0.00   low prevalence  low prevalence\n",
              "190        0.67   low prevalence  low prevalence\n",
              "943        0.04   low prevalence  low prevalence\n",
              "44         0.34   low prevalence  low prevalence\n",
              "681        0.94   low prevalence  low prevalence\n",
              "254        0.91   low prevalence  low prevalence\n",
              "251        1.92  high prevalence  low prevalence\n",
              "844        0.03   low prevalence  low prevalence"
            ]
          },
          "metadata": {
            "tags": []
          },
          "execution_count": 18
        }
      ]
    },
    {
      "cell_type": "code",
      "metadata": {
        "colab": {
          "base_uri": "https://localhost:8080/"
        },
        "id": "HOtq5EMxISKY",
        "outputId": "00e866f6-307f-4f39-b5f4-cd5cf29753cd"
      },
      "source": [
        "## Transformation 2: Grouping responses into 5 groups: glaucoma, diabetic retinopathy, cataracts, macular degeneration, and other \n",
        "df4['response'].value_counts(30) "
      ],
      "execution_count": null,
      "outputs": [
        {
          "output_type": "execute_result",
          "data": {
            "text/plain": [
              "Pseudophakia                                        0.046\n",
              "Low-tension glaucoma                                0.037\n",
              "All Glaucoma                                        0.035\n",
              "Secondary glaucoma                                  0.035\n",
              "Congenital glaucoma                                 0.032\n",
              "                                                    ...  \n",
              "Glaucoma screening                                  0.002\n",
              "All Disorders of optic nerve and visual pathways    0.002\n",
              "Congenital anomalies                                0.002\n",
              "All Blindness and low vision                        0.001\n",
              "Visual field testing                                0.001\n",
              "Name: response, Length: 120, dtype: float64"
            ]
          },
          "metadata": {
            "tags": []
          },
          "execution_count": 19
        }
      ]
    },
    {
      "cell_type": "code",
      "metadata": {
        "id": "P41x9Ivtl5Ha"
      },
      "source": [
        "glaucomarelated = ['Low-tension glaucoma', 'Secondary glaucoma', 'All Glaucoma', 'Congenital glaucoma', 'Glaucoma screening','Non-congenital cataract']\n",
        "diabeticretinopathyrelated = ['Early/mild diabetic retinopathy']\n",
        "cataractsrelated = ['Senile cataract']\n",
        "maculardegenrelated = ['Wet-form age-related macular degeneration', 'Dry-form age-related macular degeneration']"
      ],
      "execution_count": null,
      "outputs": []
    },
    {
      "cell_type": "code",
      "metadata": {
        "id": "iAY9caU0nOyw"
      },
      "source": [
        "def response_transformer(row):\n",
        "  if row['response'] in glaucomarelated:\n",
        "    return 'glaucoma'\n",
        "  elif row['response'] in diabeticretinopathyrelated:\n",
        "    return 'diabeticret'\n",
        "  elif row['response'] in cataractsrelated:\n",
        "    return 'cataract'\n",
        "  elif row['response'] in maculardegenrelated:\n",
        "    return 'maculardegenrelated'\n",
        "  else: \n",
        "     return 'Other' \n",
        "\n",
        "df4['response_modified'] = df4.apply(response_transformer, 1)"
      ],
      "execution_count": null,
      "outputs": []
    },
    {
      "cell_type": "code",
      "metadata": {
        "colab": {
          "base_uri": "https://localhost:8080/",
          "height": 417
        },
        "id": "aMOOJMfaobPv",
        "outputId": "c15f52fd-a1c1-4436-d817-d63c7edd0c66"
      },
      "source": [
        "df4[['response','response_modified']]"
      ],
      "execution_count": null,
      "outputs": [
        {
          "output_type": "execute_result",
          "data": {
            "text/html": [
              "<div>\n",
              "<style scoped>\n",
              "    .dataframe tbody tr th:only-of-type {\n",
              "        vertical-align: middle;\n",
              "    }\n",
              "\n",
              "    .dataframe tbody tr th {\n",
              "        vertical-align: top;\n",
              "    }\n",
              "\n",
              "    .dataframe thead th {\n",
              "        text-align: right;\n",
              "    }\n",
              "</style>\n",
              "<table border=\"1\" class=\"dataframe\">\n",
              "  <thead>\n",
              "    <tr style=\"text-align: right;\">\n",
              "      <th></th>\n",
              "      <th>response</th>\n",
              "      <th>response_modified</th>\n",
              "    </tr>\n",
              "  </thead>\n",
              "  <tbody>\n",
              "    <tr>\n",
              "      <th>0</th>\n",
              "      <td>Congenital glaucoma</td>\n",
              "      <td>glaucoma</td>\n",
              "    </tr>\n",
              "    <tr>\n",
              "      <th>1</th>\n",
              "      <td>Secondary glaucoma</td>\n",
              "      <td>glaucoma</td>\n",
              "    </tr>\n",
              "    <tr>\n",
              "      <th>2</th>\n",
              "      <td>Senile cataract</td>\n",
              "      <td>cataract</td>\n",
              "    </tr>\n",
              "    <tr>\n",
              "      <th>3</th>\n",
              "      <td>Aphakia and disorders of lens</td>\n",
              "      <td>Other</td>\n",
              "    </tr>\n",
              "    <tr>\n",
              "      <th>4</th>\n",
              "      <td>Senile cataract</td>\n",
              "      <td>cataract</td>\n",
              "    </tr>\n",
              "    <tr>\n",
              "      <th>...</th>\n",
              "      <td>...</td>\n",
              "      <td>...</td>\n",
              "    </tr>\n",
              "    <tr>\n",
              "      <th>995</th>\n",
              "      <td>Dry eye syndrome</td>\n",
              "      <td>Other</td>\n",
              "    </tr>\n",
              "    <tr>\n",
              "      <th>996</th>\n",
              "      <td>Non-congenital cataract</td>\n",
              "      <td>glaucoma</td>\n",
              "    </tr>\n",
              "    <tr>\n",
              "      <th>997</th>\n",
              "      <td>Infectious diseases</td>\n",
              "      <td>Other</td>\n",
              "    </tr>\n",
              "    <tr>\n",
              "      <th>998</th>\n",
              "      <td>Any cataract treatment</td>\n",
              "      <td>Other</td>\n",
              "    </tr>\n",
              "    <tr>\n",
              "      <th>999</th>\n",
              "      <td>Dry-form age-related macular degeneration</td>\n",
              "      <td>maculardegenrelated</td>\n",
              "    </tr>\n",
              "  </tbody>\n",
              "</table>\n",
              "<p>1000 rows × 2 columns</p>\n",
              "</div>"
            ],
            "text/plain": [
              "                                      response    response_modified\n",
              "0                          Congenital glaucoma             glaucoma\n",
              "1                           Secondary glaucoma             glaucoma\n",
              "2                              Senile cataract             cataract\n",
              "3                Aphakia and disorders of lens                Other\n",
              "4                              Senile cataract             cataract\n",
              "..                                         ...                  ...\n",
              "995                           Dry eye syndrome                Other\n",
              "996                    Non-congenital cataract             glaucoma\n",
              "997                        Infectious diseases                Other\n",
              "998                     Any cataract treatment                Other\n",
              "999  Dry-form age-related macular degeneration  maculardegenrelated\n",
              "\n",
              "[1000 rows x 2 columns]"
            ]
          },
          "metadata": {
            "tags": []
          },
          "execution_count": 22
        }
      ]
    },
    {
      "cell_type": "markdown",
      "metadata": {
        "id": "eSR6GTh63w9P"
      },
      "source": [
        "##4. Central Tendency and Distribution of Responses"
      ]
    },
    {
      "cell_type": "code",
      "metadata": {
        "colab": {
          "base_uri": "https://localhost:8080/"
        },
        "id": "DvAo06YQ35b1",
        "outputId": "7609c6ff-17e5-417f-e025-28c612debef2"
      },
      "source": [
        "df4['data_value'].mean()"
      ],
      "execution_count": null,
      "outputs": [
        {
          "output_type": "execute_result",
          "data": {
            "text/plain": [
              "1.3616719576719547"
            ]
          },
          "metadata": {
            "tags": []
          },
          "execution_count": 23
        }
      ]
    },
    {
      "cell_type": "code",
      "metadata": {
        "colab": {
          "base_uri": "https://localhost:8080/"
        },
        "id": "S2DxRz5D6FsV",
        "outputId": "94f5b913-2579-4619-d012-bae34b3ec5ee"
      },
      "source": [
        "df4['data_value'].median()"
      ],
      "execution_count": null,
      "outputs": [
        {
          "output_type": "execute_result",
          "data": {
            "text/plain": [
              "0.09"
            ]
          },
          "metadata": {
            "tags": []
          },
          "execution_count": 24
        }
      ]
    },
    {
      "cell_type": "code",
      "metadata": {
        "colab": {
          "base_uri": "https://localhost:8080/"
        },
        "id": "PlIgfSSS6Js4",
        "outputId": "c01e08b8-9399-4f16-ddff-3bb8c654df8e"
      },
      "source": [
        "df4['data_value'].mode()"
      ],
      "execution_count": null,
      "outputs": [
        {
          "output_type": "execute_result",
          "data": {
            "text/plain": [
              "0    0.0\n",
              "dtype: float64"
            ]
          },
          "metadata": {
            "tags": []
          },
          "execution_count": 25
        }
      ]
    },
    {
      "cell_type": "code",
      "metadata": {
        "colab": {
          "base_uri": "https://localhost:8080/",
          "height": 110
        },
        "id": "tYEQHJnK6Xso",
        "outputId": "e5bd4c99-6e6a-4693-c94f-b20fd967ca46"
      },
      "source": [
        "#alternative way to find mean and median\n",
        "df4[['data_value']].agg(['mean','median'])"
      ],
      "execution_count": null,
      "outputs": [
        {
          "output_type": "execute_result",
          "data": {
            "text/html": [
              "<div>\n",
              "<style scoped>\n",
              "    .dataframe tbody tr th:only-of-type {\n",
              "        vertical-align: middle;\n",
              "    }\n",
              "\n",
              "    .dataframe tbody tr th {\n",
              "        vertical-align: top;\n",
              "    }\n",
              "\n",
              "    .dataframe thead th {\n",
              "        text-align: right;\n",
              "    }\n",
              "</style>\n",
              "<table border=\"1\" class=\"dataframe\">\n",
              "  <thead>\n",
              "    <tr style=\"text-align: right;\">\n",
              "      <th></th>\n",
              "      <th>data_value</th>\n",
              "    </tr>\n",
              "  </thead>\n",
              "  <tbody>\n",
              "    <tr>\n",
              "      <th>mean</th>\n",
              "      <td>1.361672</td>\n",
              "    </tr>\n",
              "    <tr>\n",
              "      <th>median</th>\n",
              "      <td>0.090000</td>\n",
              "    </tr>\n",
              "  </tbody>\n",
              "</table>\n",
              "</div>"
            ],
            "text/plain": [
              "        data_value\n",
              "mean      1.361672\n",
              "median    0.090000"
            ]
          },
          "metadata": {
            "tags": []
          },
          "execution_count": 26
        }
      ]
    },
    {
      "cell_type": "code",
      "metadata": {
        "colab": {
          "base_uri": "https://localhost:8080/",
          "height": 297
        },
        "id": "IX-brq75-OdY",
        "outputId": "d734c1ec-4e49-45c2-d107-37e77637f9d0"
      },
      "source": [
        "#plot a histogram of the data for distribution of data\n",
        "sns.histplot(df4, x=\"data_value\", binwidth=1)"
      ],
      "execution_count": null,
      "outputs": [
        {
          "output_type": "execute_result",
          "data": {
            "text/plain": [
              "<matplotlib.axes._subplots.AxesSubplot at 0x7ff2edb202d0>"
            ]
          },
          "metadata": {
            "tags": []
          },
          "execution_count": 50
        },
        {
          "output_type": "display_data",
          "data": {
            "image/png": "[encoded data removed]",
            "text/plain": [
              "<Figure size 432x288 with 1 Axes>"
            ]
          },
          "metadata": {
            "tags": [],
            "needs_background": "light"
          }
        }
      ]
    },
    {
      "cell_type": "code",
      "metadata": {
        "colab": {
          "base_uri": "https://localhost:8080/",
          "height": 297
        },
        "id": "8Nfbw3Y4uRod",
        "outputId": "917d0fe2-8392-4a4f-c2fa-e1be59239414"
      },
      "source": [
        "df8 = df4.replace(to_replace=0, value=None)\n",
        "sns.histplot(df8, x=\"data_value\", hue=\"age\")"
      ],
      "execution_count": null,
      "outputs": [
        {
          "output_type": "execute_result",
          "data": {
            "text/plain": [
              "<matplotlib.axes._subplots.AxesSubplot at 0x7ff2e5785250>"
            ]
          },
          "metadata": {
            "tags": []
          },
          "execution_count": 62
        },
        {
          "output_type": "display_data",
          "data": {
            "image/png": "[encoded data removed]",
            "text/plain": [
              "<Figure size 432x288 with 1 Axes>"
            ]
          },
          "metadata": {
            "tags": [],
            "needs_background": "light"
          }
        }
      ]
    },
    {
      "cell_type": "code",
      "metadata": {
        "colab": {
          "base_uri": "https://localhost:8080/"
        },
        "id": "grfKykGzHwdz",
        "outputId": "3bf7624b-44ce-4dc0-e31f-0a62d6d24c8a"
      },
      "source": [
        "df4['data_value'].skew()"
      ],
      "execution_count": null,
      "outputs": [
        {
          "output_type": "execute_result",
          "data": {
            "text/plain": [
              "10.85685224027825"
            ]
          },
          "metadata": {
            "tags": []
          },
          "execution_count": 28
        }
      ]
    },
    {
      "cell_type": "code",
      "metadata": {
        "colab": {
          "base_uri": "https://localhost:8080/"
        },
        "id": "hZGICgFLrh8V",
        "outputId": "8cbfbf75-d0be-4e73-b615-b229528161a4"
      },
      "source": [
        "df4.skew(axis = 1, skipna = True)"
      ],
      "execution_count": null,
      "outputs": [
        {
          "output_type": "execute_result",
          "data": {
            "text/plain": [
              "0      1.306839\n",
              "1      1.351357\n",
              "2      0.678957\n",
              "3      2.828427\n",
              "4      2.802787\n",
              "         ...   \n",
              "995    0.773774\n",
              "996    2.826730\n",
              "997    2.825739\n",
              "998    2.826843\n",
              "999    2.726208\n",
              "Length: 1000, dtype: float64"
            ]
          },
          "metadata": {
            "tags": []
          },
          "execution_count": 43
        }
      ]
    },
    {
      "cell_type": "markdown",
      "metadata": {
        "id": "ANSMG47s4BCe"
      },
      "source": [
        "##5. Value Counts"
      ]
    },
    {
      "cell_type": "code",
      "metadata": {
        "colab": {
          "base_uri": "https://localhost:8080/"
        },
        "id": "pgxoYffJ4Kol",
        "outputId": "10feb701-c644-4242-e485-9e4f3ada21ec"
      },
      "source": [
        "df4['response'].value_counts()"
      ],
      "execution_count": null,
      "outputs": [
        {
          "output_type": "execute_result",
          "data": {
            "text/plain": [
              "Pseudophakia                                        46\n",
              "Low-tension glaucoma                                37\n",
              "All Glaucoma                                        35\n",
              "Secondary glaucoma                                  35\n",
              "Congenital glaucoma                                 32\n",
              "                                                    ..\n",
              "Glaucoma screening                                   2\n",
              "All Disorders of optic nerve and visual pathways     2\n",
              "Congenital anomalies                                 2\n",
              "All Blindness and low vision                         1\n",
              "Visual field testing                                 1\n",
              "Name: response, Length: 120, dtype: int64"
            ]
          },
          "metadata": {
            "tags": []
          },
          "execution_count": 29
        }
      ]
    },
    {
      "cell_type": "markdown",
      "metadata": {
        "id": "gM0vnmG8o79w"
      },
      "source": [
        "## #6) Quartile ranges (.25, .50, .75)"
      ]
    },
    {
      "cell_type": "code",
      "metadata": {
        "colab": {
          "base_uri": "https://localhost:8080/"
        },
        "id": "h3rTE2GWZOzf",
        "outputId": "aaa33ee7-ec5a-45cc-c1d9-a158c49ae38e"
      },
      "source": [
        "df4['data_value'].describe()"
      ],
      "execution_count": null,
      "outputs": [
        {
          "output_type": "execute_result",
          "data": {
            "text/plain": [
              "count    945.000000\n",
              "mean       1.361672\n",
              "std        8.008589\n",
              "min        0.000000\n",
              "25%        0.000000\n",
              "50%        0.090000\n",
              "75%        0.560000\n",
              "max       96.400000\n",
              "Name: data_value, dtype: float64"
            ]
          },
          "metadata": {
            "tags": []
          },
          "execution_count": 45
        }
      ]
    },
    {
      "cell_type": "markdown",
      "metadata": {
        "id": "vTcwsf2qrd_L"
      },
      "source": [
        "## 7) Create at least 2 visualizations that help the reader understand your dataset"
      ]
    },
    {
      "cell_type": "code",
      "metadata": {
        "colab": {
          "base_uri": "https://localhost:8080/",
          "height": 387
        },
        "id": "I-Afda9muXE_",
        "outputId": "0c6e1f10-e42e-4d1b-e22d-c06cdce3ec36"
      },
      "source": [
        "!pip install matplotlib==3.1.3"
      ],
      "execution_count": null,
      "outputs": [
        {
          "output_type": "stream",
          "text": [
            "Collecting matplotlib==3.1.3\n",
            "  Downloading matplotlib-3.1.3-cp37-cp37m-manylinux1_x86_64.whl (13.1 MB)\n",
            "\u001b[K     |████████████████████████████████| 13.1 MB 85 kB/s \n",
            "\u001b[?25hRequirement already satisfied: cycler>=0.10 in /usr/local/lib/python3.7/dist-packages (from matplotlib==3.1.3) (0.10.0)\n",
            "Requirement already satisfied: numpy>=1.11 in /usr/local/lib/python3.7/dist-packages (from matplotlib==3.1.3) (1.19.5)\n",
            "Requirement already satisfied: pyparsing!=2.0.4,!=2.1.2,!=2.1.6,>=2.0.1 in /usr/local/lib/python3.7/dist-packages (from matplotlib==3.1.3) (2.4.7)\n",
            "Requirement already satisfied: kiwisolver>=1.0.1 in /usr/local/lib/python3.7/dist-packages (from matplotlib==3.1.3) (1.3.1)\n",
            "Requirement already satisfied: python-dateutil>=2.1 in /usr/local/lib/python3.7/dist-packages (from matplotlib==3.1.3) (2.8.2)\n",
            "Requirement already satisfied: six in /usr/local/lib/python3.7/dist-packages (from cycler>=0.10->matplotlib==3.1.3) (1.15.0)\n",
            "Installing collected packages: matplotlib\n",
            "  Attempting uninstall: matplotlib\n",
            "    Found existing installation: matplotlib 3.2.2\n",
            "    Uninstalling matplotlib-3.2.2:\n",
            "      Successfully uninstalled matplotlib-3.2.2\n",
            "\u001b[31mERROR: pip's dependency resolver does not currently take into account all the packages that are installed. This behaviour is the source of the following dependency conflicts.\n",
            "albumentations 0.1.12 requires imgaug<0.2.7,>=0.2.5, but you have imgaug 0.2.9 which is incompatible.\u001b[0m\n",
            "Successfully installed matplotlib-3.1.3\n"
          ],
          "name": "stdout"
        },
        {
          "output_type": "display_data",
          "data": {
            "application/vnd.colab-display-data+json": {
              "pip_warning": {
                "packages": [
                  "matplotlib",
                  "mpl_toolkits"
                ]
              }
            }
          },
          "metadata": {
            "tags": []
          }
        }
      ]
    },
    {
      "cell_type": "code",
      "metadata": {
        "colab": {
          "base_uri": "https://localhost:8080/"
        },
        "id": "JL0fw29-uUWL",
        "outputId": "226d8808-e152-410f-9bcf-4d6dfb17e6d6"
      },
      "source": [
        "df4.value_counts('riskfactor')"
      ],
      "execution_count": null,
      "outputs": [
        {
          "output_type": "execute_result",
          "data": {
            "text/plain": [
              "riskfactor\n",
              "Diabetes                                 437\n",
              "Hypertension                             348\n",
              "All patients                             168\n",
              "Diabetic retinopathy                       9\n",
              "Diabetes and diabetic retinopathy          8\n",
              "Glaucoma                                   6\n",
              "Hypertension and diabetic retinopathy      4\n",
              "Cataract                                   4\n",
              "Hypertension and glaucoma                  3\n",
              "Diabetes and glaucoma                      3\n",
              "Diabetes and cataract                      3\n",
              "Hypertension and AMD                       2\n",
              "Diabetes and AMD                           2\n",
              "Age-related macular degeneration           2\n",
              "Hypertension and cataract                  1\n",
              "dtype: int64"
            ]
          },
          "metadata": {
            "tags": []
          },
          "execution_count": 32
        }
      ]
    },
    {
      "cell_type": "code",
      "metadata": {
        "colab": {
          "base_uri": "https://localhost:8080/",
          "height": 296
        },
        "id": "wRz3NWFcrllG",
        "outputId": "ded96362-a33e-4c08-c93a-bb27dde3abc1"
      },
      "source": [
        "df5 = df4[df4['age'] != 'All ages']\n",
        "\n",
        "sns.barplot(data=df5, x='age', y=\"data_value\")"
      ],
      "execution_count": null,
      "outputs": [
        {
          "output_type": "execute_result",
          "data": {
            "text/plain": [
              "<matplotlib.axes._subplots.AxesSubplot at 0x7ff2f9947e90>"
            ]
          },
          "metadata": {
            "tags": []
          },
          "execution_count": 33
        },
        {
          "output_type": "display_data",
          "data": {
            "image/png": "[encoded data removed]",
            "text/plain": [
              "<Figure size 432x288 with 1 Axes>"
            ]
          },
          "metadata": {
            "tags": [],
            "needs_background": "light"
          }
        }
      ]
    },
    {
      "cell_type": "code",
      "metadata": {
        "colab": {
          "base_uri": "https://localhost:8080/",
          "height": 403
        },
        "id": "m_YMWfCJYTzj",
        "outputId": "86fd44af-5aca-4bf4-9ba0-beaef4b36412"
      },
      "source": [
        "g = sns.catplot(data=df4, x='locationabbr', y=\"data_value\", aspect= 8, kind= \"bar\")"
      ],
      "execution_count": null,
      "outputs": [
        {
          "output_type": "display_data",
          "data": {
            "image/png": "[encoded data removed]",
            "text/plain": [
              "<Figure size 2880x360 with 1 Axes>"
            ]
          },
          "metadata": {
            "tags": [],
            "needs_background": "light"
          }
        }
      ]
    },
    {
      "cell_type": "code",
      "metadata": {
        "colab": {
          "base_uri": "https://localhost:8080/",
          "height": 542
        },
        "id": "HV2-_GJrTNQb",
        "outputId": "7e645a68-527c-41c7-b607-efb8082abea2"
      },
      "source": [
        "df6 = df4[df4['riskfactor'] != 'All patients']\n",
        "fig = px.bar(df6, x='riskfactor', y='data_value', color='riskfactor', template=\"plotly_dark\")\n",
        "fig.show()"
      ],
      "execution_count": null,
      "outputs": [
        {
          "output_type": "display_data",
          "data": {
            "text/html": [
              "<html>\n",
              "<head><meta charset=\"utf-8\" /></head>\n",
              "<body>\n",
              "    <div>\n",
              "            <script src=\"https://cdnjs.cloudflare.com/ajax/libs/mathjax/2.7.5/MathJax.js?config=TeX-AMS-MML_SVG\"></script><script type=\"text/javascript\">if (window.MathJax) {MathJax.Hub.Config({SVG: {font: \"STIX-Web\"}});}</script>\n",
              "                <script type=\"text/javascript\">window.PlotlyConfig = {MathJaxConfig: 'local'};</script>\n",
              "        <script src=\"https://cdn.plot.ly/plotly-latest.min.js\"></script>    \n",
              "            <div id=\"02475a31-1eaa-4f24-a9d5-b449971f58c2\" class=\"plotly-graph-div\" style=\"height:525px; width:100%;\"></div>\n",
              "            <script type=\"text/javascript\">\n",
              "                \n",
              "                    window.PLOTLYENV=window.PLOTLYENV || {};\n",
              "                    \n",
              "                if (document.getElementById(\"02475a31-1eaa-4f24-a9d5-b449971f58c2\")) {\n",
              "                    Plotly.newPlot(\n",
              "                        '02475a31-1eaa-4f24-a9d5-b449971f58c2',\n",
              "                        [{\"alignmentgroup\": \"True\", \"hoverlabel\": {\"namelength\": 0}, \"hovertemplate\": \"riskfactor=%{x}<br>data_value=%{y}\", \"legendgroup\": \"riskfactor=Hypertension\", \"marker\": {\"color\": \"#636efa\"}, \"name\": \"riskfactor=Hypertension\", \"offsetgroup\": \"riskfactor=Hypertension\", \"orientation\": \"v\", \"showlegend\": true, \"textposition\": \"auto\", \"type\": \"bar\", \"x\": [\"Hypertension\", \"Hypertension\", \"Hypertension\", \"Hypertension\", \"Hypertension\", \"Hypertension\", \"Hypertension\", \"Hypertension\", \"Hypertension\", \"Hypertension\", \"Hypertension\", \"Hypertension\", \"Hypertension\", \"Hypertension\", \"Hypertension\", \"Hypertension\", \"Hypertension\", \"Hypertension\", \"Hypertension\", \"Hypertension\", \"Hypertension\", \"Hypertension\", \"Hypertension\", \"Hypertension\", \"Hypertension\", \"Hypertension\", \"Hypertension\", \"Hypertension\", \"Hypertension\", \"Hypertension\", \"Hypertension\", \"Hypertension\", \"Hypertension\", \"Hypertension\", \"Hypertension\", \"Hypertension\", \"Hypertension\", \"Hypertension\", \"Hypertension\", \"Hypertension\", \"Hypertension\", \"Hypertension\", \"Hypertension\", \"Hypertension\", \"Hypertension\", \"Hypertension\", \"Hypertension\", \"Hypertension\", \"Hypertension\", \"Hypertension\", \"Hypertension\", \"Hypertension\", \"Hypertension\", \"Hypertension\", \"Hypertension\", \"Hypertension\", \"Hypertension\", \"Hypertension\", \"Hypertension\", \"Hypertension\", \"Hypertension\", \"Hypertension\", \"Hypertension\", \"Hypertension\", \"Hypertension\", \"Hypertension\", \"Hypertension\", \"Hypertension\", \"Hypertension\", \"Hypertension\", \"Hypertension\", \"Hypertension\", \"Hypertension\", \"Hypertension\", \"Hypertension\", \"Hypertension\", \"Hypertension\", \"Hypertension\", \"Hypertension\", \"Hypertension\", \"Hypertension\", \"Hypertension\", \"Hypertension\", \"Hypertension\", \"Hypertension\", \"Hypertension\", \"Hypertension\", \"Hypertension\", \"Hypertension\", \"Hypertension\", \"Hypertension\", \"Hypertension\", \"Hypertension\", \"Hypertension\", \"Hypertension\", \"Hypertension\", \"Hypertension\", \"Hypertension\", \"Hypertension\", \"Hypertension\", \"Hypertension\", \"Hypertension\", \"Hypertension\", \"Hypertension\", \"Hypertension\", \"Hypertension\", \"Hypertension\", \"Hypertension\", \"Hypertension\", \"Hypertension\", \"Hypertension\", \"Hypertension\", \"Hypertension\", \"Hypertension\", \"Hypertension\", \"Hypertension\", \"Hypertension\", \"Hypertension\", \"Hypertension\", \"Hypertension\", \"Hypertension\", \"Hypertension\", \"Hypertension\", \"Hypertension\", \"Hypertension\", \"Hypertension\", \"Hypertension\", \"Hypertension\", \"Hypertension\", \"Hypertension\", \"Hypertension\", \"Hypertension\", \"Hypertension\", \"Hypertension\", \"Hypertension\", \"Hypertension\", \"Hypertension\", \"Hypertension\", \"Hypertension\", \"Hypertension\", \"Hypertension\", \"Hypertension\", \"Hypertension\", \"Hypertension\", \"Hypertension\", \"Hypertension\", \"Hypertension\", \"Hypertension\", \"Hypertension\", \"Hypertension\", \"Hypertension\", \"Hypertension\", \"Hypertension\", \"Hypertension\", \"Hypertension\", \"Hypertension\", \"Hypertension\", \"Hypertension\", \"Hypertension\", \"Hypertension\", \"Hypertension\", \"Hypertension\", \"Hypertension\", \"Hypertension\", \"Hypertension\", \"Hypertension\", \"Hypertension\", \"Hypertension\", \"Hypertension\", \"Hypertension\", \"Hypertension\", \"Hypertension\", \"Hypertension\", \"Hypertension\", \"Hypertension\", \"Hypertension\", \"Hypertension\", \"Hypertension\", \"Hypertension\", \"Hypertension\", \"Hypertension\", \"Hypertension\", \"Hypertension\", \"Hypertension\", \"Hypertension\", \"Hypertension\", \"Hypertension\", \"Hypertension\", \"Hypertension\", \"Hypertension\", \"Hypertension\", \"Hypertension\", \"Hypertension\", \"Hypertension\", \"Hypertension\", \"Hypertension\", \"Hypertension\", \"Hypertension\", \"Hypertension\", \"Hypertension\", \"Hypertension\", \"Hypertension\", \"Hypertension\", \"Hypertension\", \"Hypertension\", \"Hypertension\", \"Hypertension\", \"Hypertension\", \"Hypertension\", \"Hypertension\", \"Hypertension\", \"Hypertension\", \"Hypertension\", \"Hypertension\", \"Hypertension\", \"Hypertension\", \"Hypertension\", \"Hypertension\", \"Hypertension\", \"Hypertension\", \"Hypertension\", \"Hypertension\", \"Hypertension\", \"Hypertension\", \"Hypertension\", \"Hypertension\", \"Hypertension\", \"Hypertension\", \"Hypertension\", \"Hypertension\", \"Hypertension\", \"Hypertension\", \"Hypertension\", \"Hypertension\", \"Hypertension\", \"Hypertension\", \"Hypertension\", \"Hypertension\", \"Hypertension\", \"Hypertension\", \"Hypertension\", \"Hypertension\", \"Hypertension\", \"Hypertension\", \"Hypertension\", \"Hypertension\", \"Hypertension\", \"Hypertension\", \"Hypertension\", \"Hypertension\", \"Hypertension\", \"Hypertension\", \"Hypertension\", \"Hypertension\", \"Hypertension\", \"Hypertension\", \"Hypertension\", \"Hypertension\", \"Hypertension\", \"Hypertension\", \"Hypertension\", \"Hypertension\", \"Hypertension\", \"Hypertension\", \"Hypertension\", \"Hypertension\", \"Hypertension\", \"Hypertension\", \"Hypertension\", \"Hypertension\", \"Hypertension\", \"Hypertension\", \"Hypertension\", \"Hypertension\", \"Hypertension\", \"Hypertension\", \"Hypertension\", \"Hypertension\", \"Hypertension\", \"Hypertension\", \"Hypertension\", \"Hypertension\", \"Hypertension\", \"Hypertension\", \"Hypertension\", \"Hypertension\", \"Hypertension\", \"Hypertension\", \"Hypertension\", \"Hypertension\", \"Hypertension\", \"Hypertension\", \"Hypertension\", \"Hypertension\", \"Hypertension\", \"Hypertension\", \"Hypertension\", \"Hypertension\", \"Hypertension\", \"Hypertension\", \"Hypertension\", \"Hypertension\", \"Hypertension\", \"Hypertension\", \"Hypertension\", \"Hypertension\", \"Hypertension\", \"Hypertension\", \"Hypertension\", \"Hypertension\", \"Hypertension\", \"Hypertension\", \"Hypertension\", \"Hypertension\", \"Hypertension\", \"Hypertension\", \"Hypertension\", \"Hypertension\", \"Hypertension\", \"Hypertension\", \"Hypertension\", \"Hypertension\", \"Hypertension\", \"Hypertension\", \"Hypertension\", \"Hypertension\", \"Hypertension\", \"Hypertension\", \"Hypertension\", \"Hypertension\", \"Hypertension\", \"Hypertension\", \"Hypertension\", \"Hypertension\", \"Hypertension\", \"Hypertension\", \"Hypertension\", \"Hypertension\", \"Hypertension\", \"Hypertension\", \"Hypertension\", \"Hypertension\", \"Hypertension\", \"Hypertension\", \"Hypertension\", \"Hypertension\", \"Hypertension\", \"Hypertension\"], \"xaxis\": \"x\", \"y\": [0.0, 0.0, 3.65, 0.04, 0.0, 0.0, 0.0, 0.0, 0.04, 0.06, 95.41, 0.04, 0.03, 1.68, 1.36, 0.01, 0.0, 0.0, 9.72, 0.0, 0.0, 0.29, 0.0, 0.0, 0.2, 0.11, 0.0, 2.27, 0.0, 0.38, 0.0, 0.0, 0.01, 0.42, 0.07, 0.0, 0.01, 0.0, 0.59, 0.03, 0.0, 0.1, 0.03, 0.56, 0.04, 0.35, 0.19, 0.0, 0.0, 0.62, 0.01, 0.0, 0.38, 0.03, 0.01, 0.02, 0.01, 0.32, 0.0, 0.0, 0.0, 0.22, 0.01, 0.0, 0.14, 0.0, 0.1, 0.02, 0.0, 0.02, 0.0, 0.1, 0.76, 0.0, 0.0, 0.01, 0.02, 0.4, 0.09, 0.15, 0.32, 0.0, 0.01, 0.02, 1.22, 0.0, 0.06, 0.0, 0.0, 0.0, 0.0, 0.0, 0.0, 0.0, 0.36, 0.02, 0.0, 0.0, 0.02, 0.72, 0.01, 0.19, 0.12, 0.02, 0.24, 1.51, 0.07, 0.11, 0.09, 5.55, 0.3, 1.29, 0.08, 0.13, 0.0, 0.12, 0.05, 0.05, 0.5, 0.14, 1.34, 0.49, 0.27, 6.15, 0.01, 4.06, 0.22, 0.09, 0.09, 0.06, 0.0, 0.38, 0.01, 0.35, 0.02, 0.09, null, 0.49, 0.21, 1.06, 0.32, 0.21, 0.45, 0.08, 0.0, 0.1, 0.49, 0.0, 0.67, 0.21, null, 0.3, 0.0, 0.02, 0.14, 0.0, 0.14, 0.0, 5.79, 0.0, 0.01, 0.0, 0.0, 0.03, 2.12, 0.0, 1.57, 0.09, 0.01, 0.73, 0.0, 0.26, 1.28, 1.23, 0.11, null, 0.66, 0.02, 0.48, 0.0, 0.2, 0.06, null, 0.46, 96.15, 0.45, 0.21, 0.0, 0.12, 2.29, null, 0.53, 0.19, 0.18, 0.38, 0.21, 0.01, 1.81, 0.08, 1.07, 2.34, 0.67, 0.0, 0.01, 0.01, 0.0, 1.45, 0.01, 0.14, 0.08, 0.88, 0.0, 0.12, 0.1, 1.05, 0.03, 93.73, null, 0.16, 0.0, null, 0.01, null, 0.0, 0.0, 0.0, 2.45, 0.0, 0.55, 2.85, 92.06, null, 0.1, 0.12, 0.42, 0.0, 0.0, 0.0, 0.1, 0.38, 0.39, 0.01, 0.02, null, 0.0, 0.0, 0.0, 0.0, 2.5, 0.24, 0.02, 0.0, 2.29, 0.09, 0.39, 0.02, 3.17, 0.14, 4.47, 0.25, 0.01, 95.55, 0.0, 0.32, null, 0.8, 0.01, 0.0, 0.6, 0.0, 0.0, 0.04, 0.0, 0.89, 0.01, 0.0, null, 0.93, 0.42, 0.0, 3.21, 0.49, 0.02, null, 1.25, 0.0, 0.76, 5.33, 0.01, 0.09, 0.0, 0.12, 0.01, 0.07, 1.25, 0.15, 0.0, 0.0, 0.01, null, null, 0.0, 0.02, 0.47, 1.25, 0.01, 1.17, 0.0, 0.0, 0.74, 1.78, 0.63, 0.54, 0.01, 0.0, 0.06, 1.01, 0.5, 0.02, 0.07, 0.64, 0.07, 0.11, 0.44, 0.01, 0.0, 0.69, 1.41, 0.04, 0.01, 4.78, 0.02, 0.0, 0.44, 0.02, 1.39, 0.1, 0.08, 3.12, 0.16, 0.28, 0.0, 0.11, 0.45, 0.03, 1.55, 1.96, 0.79], \"yaxis\": \"y\"}, {\"alignmentgroup\": \"True\", \"hoverlabel\": {\"namelength\": 0}, \"hovertemplate\": \"riskfactor=%{x}<br>data_value=%{y}\", \"legendgroup\": \"riskfactor=Diabetes\", \"marker\": {\"color\": \"#EF553B\"}, \"name\": \"riskfactor=Diabetes\", \"offsetgroup\": \"riskfactor=Diabetes\", \"orientation\": \"v\", \"showlegend\": true, \"textposition\": \"auto\", \"type\": \"bar\", \"x\": [\"Diabetes\", \"Diabetes\", \"Diabetes\", \"Diabetes\", \"Diabetes\", \"Diabetes\", \"Diabetes\", \"Diabetes\", \"Diabetes\", \"Diabetes\", \"Diabetes\", \"Diabetes\", \"Diabetes\", \"Diabetes\", \"Diabetes\", \"Diabetes\", \"Diabetes\", \"Diabetes\", \"Diabetes\", \"Diabetes\", \"Diabetes\", \"Diabetes\", \"Diabetes\", \"Diabetes\", \"Diabetes\", \"Diabetes\", \"Diabetes\", \"Diabetes\", \"Diabetes\", \"Diabetes\", \"Diabetes\", \"Diabetes\", \"Diabetes\", \"Diabetes\", \"Diabetes\", \"Diabetes\", \"Diabetes\", \"Diabetes\", \"Diabetes\", \"Diabetes\", \"Diabetes\", \"Diabetes\", \"Diabetes\", \"Diabetes\", \"Diabetes\", \"Diabetes\", \"Diabetes\", \"Diabetes\", \"Diabetes\", \"Diabetes\", \"Diabetes\", \"Diabetes\", \"Diabetes\", \"Diabetes\", \"Diabetes\", \"Diabetes\", \"Diabetes\", \"Diabetes\", \"Diabetes\", \"Diabetes\", \"Diabetes\", \"Diabetes\", \"Diabetes\", \"Diabetes\", \"Diabetes\", \"Diabetes\", \"Diabetes\", \"Diabetes\", \"Diabetes\", \"Diabetes\", \"Diabetes\", \"Diabetes\", \"Diabetes\", \"Diabetes\", \"Diabetes\", \"Diabetes\", \"Diabetes\", \"Diabetes\", \"Diabetes\", \"Diabetes\", \"Diabetes\", \"Diabetes\", \"Diabetes\", \"Diabetes\", \"Diabetes\", \"Diabetes\", \"Diabetes\", \"Diabetes\", \"Diabetes\", \"Diabetes\", \"Diabetes\", \"Diabetes\", \"Diabetes\", \"Diabetes\", \"Diabetes\", \"Diabetes\", \"Diabetes\", \"Diabetes\", \"Diabetes\", \"Diabetes\", \"Diabetes\", \"Diabetes\", \"Diabetes\", \"Diabetes\", \"Diabetes\", \"Diabetes\", \"Diabetes\", \"Diabetes\", \"Diabetes\", \"Diabetes\", \"Diabetes\", \"Diabetes\", \"Diabetes\", \"Diabetes\", \"Diabetes\", \"Diabetes\", \"Diabetes\", \"Diabetes\", \"Diabetes\", \"Diabetes\", \"Diabetes\", \"Diabetes\", \"Diabetes\", \"Diabetes\", \"Diabetes\", \"Diabetes\", \"Diabetes\", \"Diabetes\", \"Diabetes\", \"Diabetes\", \"Diabetes\", \"Diabetes\", \"Diabetes\", \"Diabetes\", \"Diabetes\", \"Diabetes\", \"Diabetes\", \"Diabetes\", \"Diabetes\", \"Diabetes\", \"Diabetes\", \"Diabetes\", \"Diabetes\", \"Diabetes\", \"Diabetes\", \"Diabetes\", \"Diabetes\", \"Diabetes\", \"Diabetes\", \"Diabetes\", \"Diabetes\", \"Diabetes\", \"Diabetes\", \"Diabetes\", \"Diabetes\", \"Diabetes\", \"Diabetes\", \"Diabetes\", \"Diabetes\", \"Diabetes\", \"Diabetes\", \"Diabetes\", \"Diabetes\", \"Diabetes\", \"Diabetes\", \"Diabetes\", \"Diabetes\", \"Diabetes\", \"Diabetes\", \"Diabetes\", \"Diabetes\", \"Diabetes\", \"Diabetes\", \"Diabetes\", \"Diabetes\", \"Diabetes\", \"Diabetes\", \"Diabetes\", \"Diabetes\", \"Diabetes\", \"Diabetes\", \"Diabetes\", \"Diabetes\", \"Diabetes\", \"Diabetes\", \"Diabetes\", \"Diabetes\", \"Diabetes\", \"Diabetes\", \"Diabetes\", \"Diabetes\", \"Diabetes\", \"Diabetes\", \"Diabetes\", \"Diabetes\", \"Diabetes\", \"Diabetes\", \"Diabetes\", \"Diabetes\", \"Diabetes\", \"Diabetes\", \"Diabetes\", \"Diabetes\", \"Diabetes\", \"Diabetes\", \"Diabetes\", \"Diabetes\", \"Diabetes\", \"Diabetes\", \"Diabetes\", \"Diabetes\", \"Diabetes\", \"Diabetes\", \"Diabetes\", \"Diabetes\", \"Diabetes\", \"Diabetes\", \"Diabetes\", \"Diabetes\", \"Diabetes\", \"Diabetes\", \"Diabetes\", \"Diabetes\", \"Diabetes\", \"Diabetes\", \"Diabetes\", \"Diabetes\", \"Diabetes\", \"Diabetes\", \"Diabetes\", \"Diabetes\", \"Diabetes\", \"Diabetes\", \"Diabetes\", \"Diabetes\", \"Diabetes\", \"Diabetes\", \"Diabetes\", \"Diabetes\", \"Diabetes\", \"Diabetes\", \"Diabetes\", \"Diabetes\", \"Diabetes\", \"Diabetes\", \"Diabetes\", \"Diabetes\", \"Diabetes\", \"Diabetes\", \"Diabetes\", \"Diabetes\", \"Diabetes\", \"Diabetes\", \"Diabetes\", \"Diabetes\", \"Diabetes\", \"Diabetes\", \"Diabetes\", \"Diabetes\", \"Diabetes\", \"Diabetes\", \"Diabetes\", \"Diabetes\", \"Diabetes\", \"Diabetes\", \"Diabetes\", \"Diabetes\", \"Diabetes\", \"Diabetes\", \"Diabetes\", \"Diabetes\", \"Diabetes\", \"Diabetes\", \"Diabetes\", \"Diabetes\", \"Diabetes\", \"Diabetes\", \"Diabetes\", \"Diabetes\", \"Diabetes\", \"Diabetes\", \"Diabetes\", \"Diabetes\", \"Diabetes\", \"Diabetes\", \"Diabetes\", \"Diabetes\", \"Diabetes\", \"Diabetes\", \"Diabetes\", \"Diabetes\", \"Diabetes\", \"Diabetes\", \"Diabetes\", \"Diabetes\", \"Diabetes\", \"Diabetes\", \"Diabetes\", \"Diabetes\", \"Diabetes\", \"Diabetes\", \"Diabetes\", \"Diabetes\", \"Diabetes\", \"Diabetes\", \"Diabetes\", \"Diabetes\", \"Diabetes\", \"Diabetes\", \"Diabetes\", \"Diabetes\", \"Diabetes\", \"Diabetes\", \"Diabetes\", \"Diabetes\", \"Diabetes\", \"Diabetes\", \"Diabetes\", \"Diabetes\", \"Diabetes\", \"Diabetes\", \"Diabetes\", \"Diabetes\", \"Diabetes\", \"Diabetes\", \"Diabetes\", \"Diabetes\", \"Diabetes\", \"Diabetes\", \"Diabetes\", \"Diabetes\", \"Diabetes\", \"Diabetes\", \"Diabetes\", \"Diabetes\", \"Diabetes\", \"Diabetes\", \"Diabetes\", \"Diabetes\", \"Diabetes\", \"Diabetes\", \"Diabetes\", \"Diabetes\", \"Diabetes\", \"Diabetes\", \"Diabetes\", \"Diabetes\", \"Diabetes\", \"Diabetes\", \"Diabetes\", \"Diabetes\", \"Diabetes\", \"Diabetes\", \"Diabetes\", \"Diabetes\", \"Diabetes\", \"Diabetes\", \"Diabetes\", \"Diabetes\", \"Diabetes\", \"Diabetes\", \"Diabetes\", \"Diabetes\", \"Diabetes\", \"Diabetes\", \"Diabetes\", \"Diabetes\", \"Diabetes\", \"Diabetes\", \"Diabetes\", \"Diabetes\", \"Diabetes\", \"Diabetes\", \"Diabetes\", \"Diabetes\", \"Diabetes\", \"Diabetes\", \"Diabetes\", \"Diabetes\", \"Diabetes\", \"Diabetes\", \"Diabetes\", \"Diabetes\", \"Diabetes\", \"Diabetes\", \"Diabetes\", \"Diabetes\", \"Diabetes\", \"Diabetes\", \"Diabetes\", \"Diabetes\", \"Diabetes\", \"Diabetes\", \"Diabetes\", \"Diabetes\", \"Diabetes\", \"Diabetes\", \"Diabetes\", \"Diabetes\", \"Diabetes\", \"Diabetes\", \"Diabetes\", \"Diabetes\", \"Diabetes\", \"Diabetes\", \"Diabetes\", \"Diabetes\", \"Diabetes\", \"Diabetes\", \"Diabetes\", \"Diabetes\", \"Diabetes\", \"Diabetes\", \"Diabetes\", \"Diabetes\", \"Diabetes\", \"Diabetes\", \"Diabetes\", \"Diabetes\", \"Diabetes\", \"Diabetes\", \"Diabetes\", \"Diabetes\", \"Diabetes\", \"Diabetes\", \"Diabetes\", \"Diabetes\", \"Diabetes\", \"Diabetes\", \"Diabetes\", \"Diabetes\", \"Diabetes\", \"Diabetes\", \"Diabetes\", \"Diabetes\", \"Diabetes\", \"Diabetes\"], \"xaxis\": \"x\", \"y\": [0.0, 0.0, 0.04, 0.13, 0.03, 0.56, 0.02, 0.01, 0.0, 0.0, 2.12, 0.0, 0.01, 0.0, 0.0, 0.05, 0.14, 0.14, 0.0, 0.0, 0.0, 5.4, 0.33, 1.18, 0.0, 0.23, 4.17, 0.34, 0.21, 0.26, 0.13, 10.82, 0.15, 0.01, 5.94, null, 0.71, 0.0, 1.38, 0.04, 0.0, 0.0, 0.02, 0.01, 0.96, 0.41, 0.0, 0.01, 0.09, 0.09, 1.12, 2.29, 0.0, 0.01, 0.39, 0.15, 0.05, 0.12, 3.39, 0.1, 0.01, 0.0, 0.75, 0.09, 0.03, 0.0, 0.17, 0.15, 0.63, 0.13, 0.02, 0.33, 0.0, 0.0, 0.37, 1.15, 0.0, 0.61, 0.01, 0.44, 0.0, 4.5, 0.22, 0.0, 0.39, 0.0, 0.12, 0.81, 12.33, 1.44, 0.04, 0.11, 0.01, 0.7, 0.0, 1.58, 0.02, 0.99, 0.17, 0.45, 3.55, 0.84, 0.23, 0.0, 0.08, 0.33, 0.0, 0.01, 0.67, 0.04, 0.04, 0.0, 0.0, 0.0, 0.01, 1.66, 0.66, 0.01, 0.04, 2.15, 0.0, 0.0, 0.19, 4.0, 10.44, 1.94, 0.85, 0.04, 0.0, 0.02, 4.75, 0.0, 0.02, 0.0, 0.0, 0.01, 0.77, 0.0, 0.45, 0.0, 0.08, 0.02, 0.0, 1.92, 0.33, 0.91, 0.05, 0.0, 5.39, 0.0, 0.0, 0.0, 0.01, 0.01, 0.0, null, 0.01, 0.98, 0.02, 1.08, 0.16, 0.22, 0.0, 0.0, 0.23, 0.01, 0.81, 0.16, 0.16, 0.94, 0.27, 1.09, 0.0, 0.0, 0.22, 0.12, 0.0, 0.0, 0.49, 0.0, 1.6, 0.0, 0.02, 0.06, 7.19, 0.01, 0.02, 0.01, 0.34, 0.19, 1.18, null, 0.0, 0.0, 0.0, 0.0, 0.11, null, 0.15, 0.0, 0.0, 0.57, 0.14, 0.0, 1.51, 0.22, 2.39, 0.02, 0.26, 2.02, 0.0, 0.0, 1.56, 0.0, 0.0, 0.02, null, 1.85, 0.02, 0.06, 0.06, null, 1.7, 0.0, null, 2.5, 0.01, null, 0.34, 0.32, 0.02, 0.0, 0.22, 0.02, 0.4, 0.0, 0.0, 0.0, 0.0, 0.08, 0.0, 5.08, 0.58, 0.57, 0.8, 4.23, 0.1, 0.04, 0.92, 0.03, 2.39, 0.7, 1.06, null, 0.2, null, 0.08, 0.01, 0.01, 0.1, 0.53, 0.01, 0.47, 0.01, 0.02, 0.02, 1.2, 0.0, 3.14, 0.13, 0.77, null, 1.69, 0.11, 96.4, 2.79, 0.13, 4.42, 2.48, 2.02, 0.0, 0.0, 0.52, 0.0, 0.06, 0.07, 2.48, 0.05, 0.0, 1.1, 2.44, 0.0, 0.0, 0.85, 0.0, 2.57, 0.07, 1.17, 5.03, 0.01, 0.0, 0.79, 2.01, 1.01, 0.09, 0.28, 0.51, 10.69, 0.0, 3.11, 0.13, 0.96, 1.42, 0.01, 0.1, 0.04, 0.0, 0.44, 0.94, 6.25, 0.77, 0.0, 7.92, 0.0, 0.15, 1.2, 0.0, 0.0, null, 0.14, 0.72, 0.0, 0.13, 1.02, 0.0, 0.32, 0.31, 1.3, 0.04, 7.06, 1.35, 0.0, 0.31, 1.58, 0.12, 0.49, 0.39, 0.0, 0.0, 0.0, 0.96, 0.0, 0.1, 0.02, 0.14, 0.37, 1.13, 0.0, 0.03, 0.64, 0.63, 1.39, 0.47, 0.0, 0.25, 0.49, null, 0.01, 0.12, 2.27, 10.06, 2.15, 0.0, 0.0, 0.5, 0.1, 0.0, 0.0, 0.56, 1.55, 1.28, 0.01, 0.0, 4.12, 0.15, 0.29, 0.0, 0.03, 2.03, 0.04, 2.74, 0.03, 0.05, 0.17, 1.28, 1.59, 0.0, 0.0, 0.0, 1.02, 0.06, 0.06, 0.12, 1.1, 1.18, null, 0.03, 0.04, 0.06, 0.05, 0.39, 2.2, 0.0, 0.52, 0.0, 1.76, 0.02, 0.0, 0.04, 3.1, 0.49, 1.46, 0.19, 0.16, 3.89, 0.0, 1.61, 0.51, 0.01, null, 0.0, 2.97, 12.06, 0.49, 0.33, 0.2, 0.01], \"yaxis\": \"y\"}, {\"alignmentgroup\": \"True\", \"hoverlabel\": {\"namelength\": 0}, \"hovertemplate\": \"riskfactor=%{x}<br>data_value=%{y}\", \"legendgroup\": \"riskfactor=Cataract\", \"marker\": {\"color\": \"#00cc96\"}, \"name\": \"riskfactor=Cataract\", \"offsetgroup\": \"riskfactor=Cataract\", \"orientation\": \"v\", \"showlegend\": true, \"textposition\": \"auto\", \"type\": \"bar\", \"x\": [\"Cataract\", \"Cataract\", \"Cataract\", \"Cataract\"], \"xaxis\": \"x\", \"y\": [10.75, null, 13.05, 10.76], \"yaxis\": \"y\"}, {\"alignmentgroup\": \"True\", \"hoverlabel\": {\"namelength\": 0}, \"hovertemplate\": \"riskfactor=%{x}<br>data_value=%{y}\", \"legendgroup\": \"riskfactor=Age-related macular degeneration\", \"marker\": {\"color\": \"#ab63fa\"}, \"name\": \"riskfactor=Age-related macular degeneration\", \"offsetgroup\": \"riskfactor=Age-related macular degeneration\", \"orientation\": \"v\", \"showlegend\": true, \"textposition\": \"auto\", \"type\": \"bar\", \"x\": [\"Age-related macular degeneration\", \"Age-related macular degeneration\"], \"xaxis\": \"x\", \"y\": [null, 0.0], \"yaxis\": \"y\"}, {\"alignmentgroup\": \"True\", \"hoverlabel\": {\"namelength\": 0}, \"hovertemplate\": \"riskfactor=%{x}<br>data_value=%{y}\", \"legendgroup\": \"riskfactor=Diabetes and glaucoma\", \"marker\": {\"color\": \"#FFA15A\"}, \"name\": \"riskfactor=Diabetes and glaucoma\", \"offsetgroup\": \"riskfactor=Diabetes and glaucoma\", \"orientation\": \"v\", \"showlegend\": true, \"textposition\": \"auto\", \"type\": \"bar\", \"x\": [\"Diabetes and glaucoma\", \"Diabetes and glaucoma\", \"Diabetes and glaucoma\"], \"xaxis\": \"x\", \"y\": [null, null, 0.81], \"yaxis\": \"y\"}, {\"alignmentgroup\": \"True\", \"hoverlabel\": {\"namelength\": 0}, \"hovertemplate\": \"riskfactor=%{x}<br>data_value=%{y}\", \"legendgroup\": \"riskfactor=Diabetes and cataract\", \"marker\": {\"color\": \"#19d3f3\"}, \"name\": \"riskfactor=Diabetes and cataract\", \"offsetgroup\": \"riskfactor=Diabetes and cataract\", \"orientation\": \"v\", \"showlegend\": true, \"textposition\": \"auto\", \"type\": \"bar\", \"x\": [\"Diabetes and cataract\", \"Diabetes and cataract\", \"Diabetes and cataract\"], \"xaxis\": \"x\", \"y\": [null, null, null], \"yaxis\": \"y\"}, {\"alignmentgroup\": \"True\", \"hoverlabel\": {\"namelength\": 0}, \"hovertemplate\": \"riskfactor=%{x}<br>data_value=%{y}\", \"legendgroup\": \"riskfactor=Hypertension and glaucoma\", \"marker\": {\"color\": \"#FF6692\"}, \"name\": \"riskfactor=Hypertension and glaucoma\", \"offsetgroup\": \"riskfactor=Hypertension and glaucoma\", \"orientation\": \"v\", \"showlegend\": true, \"textposition\": \"auto\", \"type\": \"bar\", \"x\": [\"Hypertension and glaucoma\", \"Hypertension and glaucoma\", \"Hypertension and glaucoma\"], \"xaxis\": \"x\", \"y\": [null, null, 4.51], \"yaxis\": \"y\"}, {\"alignmentgroup\": \"True\", \"hoverlabel\": {\"namelength\": 0}, \"hovertemplate\": \"riskfactor=%{x}<br>data_value=%{y}\", \"legendgroup\": \"riskfactor=Diabetic retinopathy\", \"marker\": {\"color\": \"#B6E880\"}, \"name\": \"riskfactor=Diabetic retinopathy\", \"offsetgroup\": \"riskfactor=Diabetic retinopathy\", \"orientation\": \"v\", \"showlegend\": true, \"textposition\": \"auto\", \"type\": \"bar\", \"x\": [\"Diabetic retinopathy\", \"Diabetic retinopathy\", \"Diabetic retinopathy\", \"Diabetic retinopathy\", \"Diabetic retinopathy\", \"Diabetic retinopathy\", \"Diabetic retinopathy\", \"Diabetic retinopathy\", \"Diabetic retinopathy\"], \"xaxis\": \"x\", \"y\": [0.53, 21.11, null, null, 16.89, null, null, 10.58, null], \"yaxis\": \"y\"}, {\"alignmentgroup\": \"True\", \"hoverlabel\": {\"namelength\": 0}, \"hovertemplate\": \"riskfactor=%{x}<br>data_value=%{y}\", \"legendgroup\": \"riskfactor=Diabetes and diabetic retinopathy\", \"marker\": {\"color\": \"#FF97FF\"}, \"name\": \"riskfactor=Diabetes and diabetic retinopathy\", \"offsetgroup\": \"riskfactor=Diabetes and diabetic retinopathy\", \"orientation\": \"v\", \"showlegend\": true, \"textposition\": \"auto\", \"type\": \"bar\", \"x\": [\"Diabetes and diabetic retinopathy\", \"Diabetes and diabetic retinopathy\", \"Diabetes and diabetic retinopathy\", \"Diabetes and diabetic retinopathy\", \"Diabetes and diabetic retinopathy\", \"Diabetes and diabetic retinopathy\", \"Diabetes and diabetic retinopathy\", \"Diabetes and diabetic retinopathy\"], \"xaxis\": \"x\", \"y\": [null, 1.06, null, null, 4.94, 0.75, 1.61, null], \"yaxis\": \"y\"}, {\"alignmentgroup\": \"True\", \"hoverlabel\": {\"namelength\": 0}, \"hovertemplate\": \"riskfactor=%{x}<br>data_value=%{y}\", \"legendgroup\": \"riskfactor=Hypertension and cataract\", \"marker\": {\"color\": \"#FECB52\"}, \"name\": \"riskfactor=Hypertension and cataract\", \"offsetgroup\": \"riskfactor=Hypertension and cataract\", \"orientation\": \"v\", \"showlegend\": true, \"textposition\": \"auto\", \"type\": \"bar\", \"x\": [\"Hypertension and cataract\"], \"xaxis\": \"x\", \"y\": [null], \"yaxis\": \"y\"}, {\"alignmentgroup\": \"True\", \"hoverlabel\": {\"namelength\": 0}, \"hovertemplate\": \"riskfactor=%{x}<br>data_value=%{y}\", \"legendgroup\": \"riskfactor=Diabetes and AMD\", \"marker\": {\"color\": \"#636efa\"}, \"name\": \"riskfactor=Diabetes and AMD\", \"offsetgroup\": \"riskfactor=Diabetes and AMD\", \"orientation\": \"v\", \"showlegend\": true, \"textposition\": \"auto\", \"type\": \"bar\", \"x\": [\"Diabetes and AMD\", \"Diabetes and AMD\"], \"xaxis\": \"x\", \"y\": [null, null], \"yaxis\": \"y\"}, {\"alignmentgroup\": \"True\", \"hoverlabel\": {\"namelength\": 0}, \"hovertemplate\": \"riskfactor=%{x}<br>data_value=%{y}\", \"legendgroup\": \"riskfactor=Glaucoma\", \"marker\": {\"color\": \"#EF553B\"}, \"name\": \"riskfactor=Glaucoma\", \"offsetgroup\": \"riskfactor=Glaucoma\", \"orientation\": \"v\", \"showlegend\": true, \"textposition\": \"auto\", \"type\": \"bar\", \"x\": [\"Glaucoma\", \"Glaucoma\", \"Glaucoma\", \"Glaucoma\", \"Glaucoma\", \"Glaucoma\"], \"xaxis\": \"x\", \"y\": [1.18, 0.79, 0.0, 0.31, 0.0, 4.38], \"yaxis\": \"y\"}, {\"alignmentgroup\": \"True\", \"hoverlabel\": {\"namelength\": 0}, \"hovertemplate\": \"riskfactor=%{x}<br>data_value=%{y}\", \"legendgroup\": \"riskfactor=Hypertension and diabetic retinopathy\", \"marker\": {\"color\": \"#00cc96\"}, \"name\": \"riskfactor=Hypertension and diabetic retinopathy\", \"offsetgroup\": \"riskfactor=Hypertension and diabetic retinopathy\", \"orientation\": \"v\", \"showlegend\": true, \"textposition\": \"auto\", \"type\": \"bar\", \"x\": [\"Hypertension and diabetic retinopathy\", \"Hypertension and diabetic retinopathy\", \"Hypertension and diabetic retinopathy\", \"Hypertension and diabetic retinopathy\"], \"xaxis\": \"x\", \"y\": [null, 1.61, null, 0.63], \"yaxis\": \"y\"}, {\"alignmentgroup\": \"True\", \"hoverlabel\": {\"namelength\": 0}, \"hovertemplate\": \"riskfactor=%{x}<br>data_value=%{y}\", \"legendgroup\": \"riskfactor=Hypertension and AMD\", \"marker\": {\"color\": \"#ab63fa\"}, \"name\": \"riskfactor=Hypertension and AMD\", \"offsetgroup\": \"riskfactor=Hypertension and AMD\", \"orientation\": \"v\", \"showlegend\": true, \"textposition\": \"auto\", \"type\": \"bar\", \"x\": [\"Hypertension and AMD\", \"Hypertension and AMD\"], \"xaxis\": \"x\", \"y\": [null, null], \"yaxis\": \"y\"}],\n",
              "                        {\"barmode\": \"relative\", \"legend\": {\"tracegroupgap\": 0}, \"margin\": {\"t\": 60}, \"template\": {\"data\": {\"bar\": [{\"error_x\": {\"color\": \"#f2f5fa\"}, \"error_y\": {\"color\": \"#f2f5fa\"}, \"marker\": {\"line\": {\"color\": \"rgb(17,17,17)\", \"width\": 0.5}}, \"type\": \"bar\"}], \"barpolar\": [{\"marker\": {\"line\": {\"color\": \"rgb(17,17,17)\", \"width\": 0.5}}, \"type\": \"barpolar\"}], \"carpet\": [{\"aaxis\": {\"endlinecolor\": \"#A2B1C6\", \"gridcolor\": \"#506784\", \"linecolor\": \"#506784\", \"minorgridcolor\": \"#506784\", \"startlinecolor\": \"#A2B1C6\"}, \"baxis\": {\"endlinecolor\": \"#A2B1C6\", \"gridcolor\": \"#506784\", \"linecolor\": \"#506784\", \"minorgridcolor\": \"#506784\", \"startlinecolor\": \"#A2B1C6\"}, \"type\": \"carpet\"}], \"choropleth\": [{\"colorbar\": {\"outlinewidth\": 0, \"ticks\": \"\"}, \"type\": \"choropleth\"}], \"contour\": [{\"colorbar\": {\"outlinewidth\": 0, \"ticks\": \"\"}, \"colorscale\": [[0.0, \"#0d0887\"], [0.1111111111111111, \"#46039f\"], [0.2222222222222222, \"#7201a8\"], [0.3333333333333333, \"#9c179e\"], [0.4444444444444444, \"#bd3786\"], [0.5555555555555556, \"#d8576b\"], [0.6666666666666666, \"#ed7953\"], [0.7777777777777778, \"#fb9f3a\"], [0.8888888888888888, \"#fdca26\"], [1.0, \"#f0f921\"]], \"type\": \"contour\"}], \"contourcarpet\": [{\"colorbar\": {\"outlinewidth\": 0, \"ticks\": \"\"}, \"type\": \"contourcarpet\"}], \"heatmap\": [{\"colorbar\": {\"outlinewidth\": 0, \"ticks\": \"\"}, \"colorscale\": [[0.0, \"#0d0887\"], [0.1111111111111111, \"#46039f\"], [0.2222222222222222, \"#7201a8\"], [0.3333333333333333, \"#9c179e\"], [0.4444444444444444, \"#bd3786\"], [0.5555555555555556, \"#d8576b\"], [0.6666666666666666, \"#ed7953\"], [0.7777777777777778, \"#fb9f3a\"], [0.8888888888888888, \"#fdca26\"], [1.0, \"#f0f921\"]], \"type\": \"heatmap\"}], \"heatmapgl\": [{\"colorbar\": {\"outlinewidth\": 0, \"ticks\": \"\"}, \"colorscale\": [[0.0, \"#0d0887\"], [0.1111111111111111, \"#46039f\"], [0.2222222222222222, \"#7201a8\"], [0.3333333333333333, \"#9c179e\"], [0.4444444444444444, \"#bd3786\"], [0.5555555555555556, \"#d8576b\"], [0.6666666666666666, \"#ed7953\"], [0.7777777777777778, \"#fb9f3a\"], [0.8888888888888888, \"#fdca26\"], [1.0, \"#f0f921\"]], \"type\": \"heatmapgl\"}], \"histogram\": [{\"marker\": {\"colorbar\": {\"outlinewidth\": 0, \"ticks\": \"\"}}, \"type\": \"histogram\"}], \"histogram2d\": [{\"colorbar\": {\"outlinewidth\": 0, \"ticks\": \"\"}, \"colorscale\": [[0.0, \"#0d0887\"], [0.1111111111111111, \"#46039f\"], [0.2222222222222222, \"#7201a8\"], [0.3333333333333333, \"#9c179e\"], [0.4444444444444444, \"#bd3786\"], [0.5555555555555556, \"#d8576b\"], [0.6666666666666666, \"#ed7953\"], [0.7777777777777778, \"#fb9f3a\"], [0.8888888888888888, \"#fdca26\"], [1.0, \"#f0f921\"]], \"type\": \"histogram2d\"}], \"histogram2dcontour\": [{\"colorbar\": {\"outlinewidth\": 0, \"ticks\": \"\"}, \"colorscale\": [[0.0, \"#0d0887\"], [0.1111111111111111, \"#46039f\"], [0.2222222222222222, \"#7201a8\"], [0.3333333333333333, \"#9c179e\"], [0.4444444444444444, \"#bd3786\"], [0.5555555555555556, \"#d8576b\"], [0.6666666666666666, \"#ed7953\"], [0.7777777777777778, \"#fb9f3a\"], [0.8888888888888888, \"#fdca26\"], [1.0, \"#f0f921\"]], \"type\": \"histogram2dcontour\"}], \"mesh3d\": [{\"colorbar\": {\"outlinewidth\": 0, \"ticks\": \"\"}, \"type\": \"mesh3d\"}], \"parcoords\": [{\"line\": {\"colorbar\": {\"outlinewidth\": 0, \"ticks\": \"\"}}, \"type\": \"parcoords\"}], \"pie\": [{\"automargin\": true, \"type\": \"pie\"}], \"scatter\": [{\"marker\": {\"line\": {\"color\": \"#283442\"}}, \"type\": \"scatter\"}], \"scatter3d\": [{\"line\": {\"colorbar\": {\"outlinewidth\": 0, \"ticks\": \"\"}}, \"marker\": {\"colorbar\": {\"outlinewidth\": 0, \"ticks\": \"\"}}, \"type\": \"scatter3d\"}], \"scattercarpet\": [{\"marker\": {\"colorbar\": {\"outlinewidth\": 0, \"ticks\": \"\"}}, \"type\": \"scattercarpet\"}], \"scattergeo\": [{\"marker\": {\"colorbar\": {\"outlinewidth\": 0, \"ticks\": \"\"}}, \"type\": \"scattergeo\"}], \"scattergl\": [{\"marker\": {\"line\": {\"color\": \"#283442\"}}, \"type\": \"scattergl\"}], \"scattermapbox\": [{\"marker\": {\"colorbar\": {\"outlinewidth\": 0, \"ticks\": \"\"}}, \"type\": \"scattermapbox\"}], \"scatterpolar\": [{\"marker\": {\"colorbar\": {\"outlinewidth\": 0, \"ticks\": \"\"}}, \"type\": \"scatterpolar\"}], \"scatterpolargl\": [{\"marker\": {\"colorbar\": {\"outlinewidth\": 0, \"ticks\": \"\"}}, \"type\": \"scatterpolargl\"}], \"scatterternary\": [{\"marker\": {\"colorbar\": {\"outlinewidth\": 0, \"ticks\": \"\"}}, \"type\": \"scatterternary\"}], \"surface\": [{\"colorbar\": {\"outlinewidth\": 0, \"ticks\": \"\"}, \"colorscale\": [[0.0, \"#0d0887\"], [0.1111111111111111, \"#46039f\"], [0.2222222222222222, \"#7201a8\"], [0.3333333333333333, \"#9c179e\"], [0.4444444444444444, \"#bd3786\"], [0.5555555555555556, \"#d8576b\"], [0.6666666666666666, \"#ed7953\"], [0.7777777777777778, \"#fb9f3a\"], [0.8888888888888888, \"#fdca26\"], [1.0, \"#f0f921\"]], \"type\": \"surface\"}], \"table\": [{\"cells\": {\"fill\": {\"color\": \"#506784\"}, \"line\": {\"color\": \"rgb(17,17,17)\"}}, \"header\": {\"fill\": {\"color\": \"#2a3f5f\"}, \"line\": {\"color\": \"rgb(17,17,17)\"}}, \"type\": \"table\"}]}, \"layout\": {\"annotationdefaults\": {\"arrowcolor\": \"#f2f5fa\", \"arrowhead\": 0, \"arrowwidth\": 1}, \"coloraxis\": {\"colorbar\": {\"outlinewidth\": 0, \"ticks\": \"\"}}, \"colorscale\": {\"diverging\": [[0, \"#8e0152\"], [0.1, \"#c51b7d\"], [0.2, \"#de77ae\"], [0.3, \"#f1b6da\"], [0.4, \"#fde0ef\"], [0.5, \"#f7f7f7\"], [0.6, \"#e6f5d0\"], [0.7, \"#b8e186\"], [0.8, \"#7fbc41\"], [0.9, \"#4d9221\"], [1, \"#276419\"]], \"sequential\": [[0.0, \"#0d0887\"], [0.1111111111111111, \"#46039f\"], [0.2222222222222222, \"#7201a8\"], [0.3333333333333333, \"#9c179e\"], [0.4444444444444444, \"#bd3786\"], [0.5555555555555556, \"#d8576b\"], [0.6666666666666666, \"#ed7953\"], [0.7777777777777778, \"#fb9f3a\"], [0.8888888888888888, \"#fdca26\"], [1.0, \"#f0f921\"]], \"sequentialminus\": [[0.0, \"#0d0887\"], [0.1111111111111111, \"#46039f\"], [0.2222222222222222, \"#7201a8\"], [0.3333333333333333, \"#9c179e\"], [0.4444444444444444, \"#bd3786\"], [0.5555555555555556, \"#d8576b\"], [0.6666666666666666, \"#ed7953\"], [0.7777777777777778, \"#fb9f3a\"], [0.8888888888888888, \"#fdca26\"], [1.0, \"#f0f921\"]]}, \"colorway\": [\"#636efa\", \"#EF553B\", \"#00cc96\", \"#ab63fa\", \"#FFA15A\", \"#19d3f3\", \"#FF6692\", \"#B6E880\", \"#FF97FF\", \"#FECB52\"], \"font\": {\"color\": \"#f2f5fa\"}, \"geo\": {\"bgcolor\": \"rgb(17,17,17)\", \"lakecolor\": \"rgb(17,17,17)\", \"landcolor\": \"rgb(17,17,17)\", \"showlakes\": true, \"showland\": true, \"subunitcolor\": \"#506784\"}, \"hoverlabel\": {\"align\": \"left\"}, \"hovermode\": \"closest\", \"mapbox\": {\"style\": \"dark\"}, \"paper_bgcolor\": \"rgb(17,17,17)\", \"plot_bgcolor\": \"rgb(17,17,17)\", \"polar\": {\"angularaxis\": {\"gridcolor\": \"#506784\", \"linecolor\": \"#506784\", \"ticks\": \"\"}, \"bgcolor\": \"rgb(17,17,17)\", \"radialaxis\": {\"gridcolor\": \"#506784\", \"linecolor\": \"#506784\", \"ticks\": \"\"}}, \"scene\": {\"xaxis\": {\"backgroundcolor\": \"rgb(17,17,17)\", \"gridcolor\": \"#506784\", \"gridwidth\": 2, \"linecolor\": \"#506784\", \"showbackground\": true, \"ticks\": \"\", \"zerolinecolor\": \"#C8D4E3\"}, \"yaxis\": {\"backgroundcolor\": \"rgb(17,17,17)\", \"gridcolor\": \"#506784\", \"gridwidth\": 2, \"linecolor\": \"#506784\", \"showbackground\": true, \"ticks\": \"\", \"zerolinecolor\": \"#C8D4E3\"}, \"zaxis\": {\"backgroundcolor\": \"rgb(17,17,17)\", \"gridcolor\": \"#506784\", \"gridwidth\": 2, \"linecolor\": \"#506784\", \"showbackground\": true, \"ticks\": \"\", \"zerolinecolor\": \"#C8D4E3\"}}, \"shapedefaults\": {\"line\": {\"color\": \"#f2f5fa\"}}, \"sliderdefaults\": {\"bgcolor\": \"#C8D4E3\", \"bordercolor\": \"rgb(17,17,17)\", \"borderwidth\": 1, \"tickwidth\": 0}, \"ternary\": {\"aaxis\": {\"gridcolor\": \"#506784\", \"linecolor\": \"#506784\", \"ticks\": \"\"}, \"baxis\": {\"gridcolor\": \"#506784\", \"linecolor\": \"#506784\", \"ticks\": \"\"}, \"bgcolor\": \"rgb(17,17,17)\", \"caxis\": {\"gridcolor\": \"#506784\", \"linecolor\": \"#506784\", \"ticks\": \"\"}}, \"title\": {\"x\": 0.05}, \"updatemenudefaults\": {\"bgcolor\": \"#506784\", \"borderwidth\": 0}, \"xaxis\": {\"automargin\": true, \"gridcolor\": \"#283442\", \"linecolor\": \"#506784\", \"ticks\": \"\", \"title\": {\"standoff\": 15}, \"zerolinecolor\": \"#283442\", \"zerolinewidth\": 2}, \"yaxis\": {\"automargin\": true, \"gridcolor\": \"#283442\", \"linecolor\": \"#506784\", \"ticks\": \"\", \"title\": {\"standoff\": 15}, \"zerolinecolor\": \"#283442\", \"zerolinewidth\": 2}}}, \"xaxis\": {\"anchor\": \"y\", \"categoryarray\": [\"Hypertension\", \"Diabetes\", \"Cataract\", \"Age-related macular degeneration\", \"Diabetes and glaucoma\", \"Diabetes and cataract\", \"Hypertension and glaucoma\", \"Diabetic retinopathy\", \"Diabetes and diabetic retinopathy\", \"Hypertension and cataract\", \"Diabetes and AMD\", \"Glaucoma\", \"Hypertension and diabetic retinopathy\", \"Hypertension and AMD\"], \"categoryorder\": \"array\", \"domain\": [0.0, 1.0], \"title\": {\"text\": \"riskfactor\"}}, \"yaxis\": {\"anchor\": \"x\", \"domain\": [0.0, 1.0], \"title\": {\"text\": \"data_value\"}}},\n",
              "                        {\"responsive\": true}\n",
              "                    ).then(function(){\n",
              "                            \n",
              "var gd = document.getElementById('02475a31-1eaa-4f24-a9d5-b449971f58c2');\n",
              "var x = new MutationObserver(function (mutations, observer) {{\n",
              "        var display = window.getComputedStyle(gd).display;\n",
              "        if (!display || display === 'none') {{\n",
              "            console.log([gd, 'removed!']);\n",
              "            Plotly.purge(gd);\n",
              "            observer.disconnect();\n",
              "        }}\n",
              "}});\n",
              "\n",
              "// Listen for the removal of the full notebook cells\n",
              "var notebookContainer = gd.closest('#notebook-container');\n",
              "if (notebookContainer) {{\n",
              "    x.observe(notebookContainer, {childList: true});\n",
              "}}\n",
              "\n",
              "// Listen for the clearing of the current output cell\n",
              "var outputEl = gd.closest('.output');\n",
              "if (outputEl) {{\n",
              "    x.observe(outputEl, {childList: true});\n",
              "}}\n",
              "\n",
              "                        })\n",
              "                };\n",
              "                \n",
              "            </script>\n",
              "        </div>\n",
              "</body>\n",
              "</html>"
            ]
          },
          "metadata": {
            "tags": []
          }
        }
      ]
    },
    {
      "cell_type": "code",
      "metadata": {
        "colab": {
          "base_uri": "https://localhost:8080/",
          "height": 296
        },
        "id": "uY6F0J7pCpoH",
        "outputId": "80b6e5d3-27ef-47e1-cff4-8861beb1739f"
      },
      "source": [
        "df7 = df4[df4['gender'] != 'All genders']\n",
        "\n",
        "sns.barplot(data=df7, x='gender', y=\"data_value\")"
      ],
      "execution_count": null,
      "outputs": [
        {
          "output_type": "execute_result",
          "data": {
            "text/plain": [
              "<matplotlib.axes._subplots.AxesSubplot at 0x7ff2ee7a0c90>"
            ]
          },
          "metadata": {
            "tags": []
          },
          "execution_count": 37
        },
        {
          "output_type": "display_data",
          "data": {
            "image/png": "[encoded data removed]",
            "text/plain": [
              "<Figure size 432x288 with 1 Axes>"
            ]
          },
          "metadata": {
            "tags": [],
            "needs_background": "light"
          }
        }
      ]
    },
    {
      "cell_type": "code",
      "metadata": {
        "id": "RPZdy6BDomgd"
      },
      "source": [
        "#Attempt at a pivot table to view prevalence(%) of vision-related per state based on risk factor\n",
        "pd.pivot_table(df4, values='data_value', index=['locationabbr'],\n",
        "               columns=['riskfactor'], aggfunc= np.sum)"
      ],
      "execution_count": null,
      "outputs": []
    },
    {
      "cell_type": "code",
      "metadata": {
        "id": "TGY8ES6LRWj8",
        "colab": {
          "base_uri": "https://localhost:8080/"
        },
        "outputId": "f49b54b7-f2bf-48f8-c939-4bf2fbb0a491"
      },
      "source": [
        "df4['data_value'].value_counts"
      ],
      "execution_count": null,
      "outputs": [
        {
          "output_type": "execute_result",
          "data": {
            "text/plain": [
              "<bound method IndexOpsMixin.value_counts of 0      0.00\n",
              "1      0.00\n",
              "2      0.00\n",
              "3      0.02\n",
              "4      0.04\n",
              "       ... \n",
              "995    1.96\n",
              "996    0.79\n",
              "997    0.21\n",
              "998    0.20\n",
              "999    0.01\n",
              "Name: data_value, Length: 1000, dtype: float64>"
            ]
          },
          "metadata": {
            "tags": []
          },
          "execution_count": 48
        }
      ]
    },
    {
      "cell_type": "markdown",
      "metadata": {
        "id": "HHdjJ-RCJrc_"
      },
      "source": [
        "# ##### PART 3"
      ]
    },
    {
      "cell_type": "markdown",
      "metadata": {
        "id": "NZFtMzpGJxqz"
      },
      "source": [
        "1. Please describe the purpose of this dataset, and what reach row represents?\n",
        "\n",
        "\n",
        "The purpose of this data set is to represent the indicators or prevalence of vision/eye-related diseases in correlation to risk factors, categories of gender, and race/ethnicity.\n"
      ]
    },
    {
      "cell_type": "markdown",
      "metadata": {
        "id": "uTiOF3E9J2ev"
      },
      "source": [
        "2. How many features and observations are in the dataset? \n",
        "\n",
        "\n",
        "\n",
        "There are 35 columns to categorize the data and 1000 rows in this dataset.\n"
      ]
    },
    {
      "cell_type": "markdown",
      "metadata": {
        "id": "Mjkhfp1lJ9iq"
      },
      "source": [
        "3. What ‘problems' exist with the dataset? \n",
        "\n",
        "\n",
        "One 'problem is that there were 55 missing data points for the data_value column within the dataset \n"
      ]
    },
    {
      "cell_type": "markdown",
      "metadata": {
        "id": "jB4cabEZKGwb"
      },
      "source": [
        "4. Is the variable X {select a variable} normally distributed? If not, how is it distributed?\n",
        "\n",
        "\n",
        "\n",
        "\n",
        "For the data_value, which represents prevalence(%) , the histogram represents a right skew distribution\n"
      ]
    }
  ]
}